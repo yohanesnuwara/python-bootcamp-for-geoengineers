{
  "nbformat": 4,
  "nbformat_minor": 0,
  "metadata": {
    "colab": {
      "provenance": [],
      "toc_visible": true
    },
    "kernelspec": {
      "name": "python3",
      "display_name": "Python 3"
    },
    "language_info": {
      "name": "python"
    }
  },
  "cells": [
    {
      "cell_type": "code",
      "metadata": {
        "id": "PJrfXwVxfm5V"
      },
      "source": [
        "# Libraries\n",
        "import numpy as np\n",
        "import matplotlib.pyplot as plt\n",
        "import scipy\n",
        "import pandas as pd"
      ],
      "execution_count": null,
      "outputs": []
    },
    {
      "cell_type": "markdown",
      "source": [
        "## 1a. Arrays and logic"
      ],
      "metadata": {
        "id": "pBeD9E0GEt5Y"
      }
    },
    {
      "cell_type": "markdown",
      "source": [
        "### Array"
      ],
      "metadata": {
        "id": "--RH77CFFQ00"
      }
    },
    {
      "cell_type": "code",
      "metadata": {
        "colab": {
          "base_uri": "https://localhost:8080/"
        },
        "id": "ggJHuxMugpgA",
        "outputId": "7d306131-a0d3-4be3-a8e5-bfbb8b4ef69a"
      },
      "source": [
        "x = np.array([1., 2., 3., 4., 5.])\n",
        "x"
      ],
      "execution_count": null,
      "outputs": [
        {
          "output_type": "execute_result",
          "data": {
            "text/plain": [
              "array([1., 2., 3., 4., 5.])"
            ]
          },
          "metadata": {},
          "execution_count": 16
        }
      ]
    },
    {
      "cell_type": "code",
      "metadata": {
        "colab": {
          "base_uri": "https://localhost:8080/"
        },
        "id": "gjy7KHBliHSn",
        "outputId": "8ac98caa-30c8-4f40-98a8-875120bd8935"
      },
      "source": [
        "y = np.array(['car', 'oil', 'coal', 'candy', 'room']) # string\n",
        "y"
      ],
      "execution_count": null,
      "outputs": [
        {
          "output_type": "execute_result",
          "data": {
            "text/plain": [
              "array(['car', 'oil', 'coal', 'candy', 'room'], dtype='<U5')"
            ]
          },
          "metadata": {},
          "execution_count": 15
        }
      ]
    },
    {
      "cell_type": "code",
      "metadata": {
        "colab": {
          "base_uri": "https://localhost:8080/"
        },
        "id": "MCBXHpNlifZO",
        "outputId": "6cad8fa9-62c4-4e48-a3ed-22727cbd8df4"
      },
      "source": [
        "x = np.linspace(1, 5, 100)\n",
        "x"
      ],
      "execution_count": null,
      "outputs": [
        {
          "output_type": "execute_result",
          "data": {
            "text/plain": [
              "array([1.        , 1.04040404, 1.08080808, 1.12121212, 1.16161616,\n",
              "       1.2020202 , 1.24242424, 1.28282828, 1.32323232, 1.36363636,\n",
              "       1.4040404 , 1.44444444, 1.48484848, 1.52525253, 1.56565657,\n",
              "       1.60606061, 1.64646465, 1.68686869, 1.72727273, 1.76767677,\n",
              "       1.80808081, 1.84848485, 1.88888889, 1.92929293, 1.96969697,\n",
              "       2.01010101, 2.05050505, 2.09090909, 2.13131313, 2.17171717,\n",
              "       2.21212121, 2.25252525, 2.29292929, 2.33333333, 2.37373737,\n",
              "       2.41414141, 2.45454545, 2.49494949, 2.53535354, 2.57575758,\n",
              "       2.61616162, 2.65656566, 2.6969697 , 2.73737374, 2.77777778,\n",
              "       2.81818182, 2.85858586, 2.8989899 , 2.93939394, 2.97979798,\n",
              "       3.02020202, 3.06060606, 3.1010101 , 3.14141414, 3.18181818,\n",
              "       3.22222222, 3.26262626, 3.3030303 , 3.34343434, 3.38383838,\n",
              "       3.42424242, 3.46464646, 3.50505051, 3.54545455, 3.58585859,\n",
              "       3.62626263, 3.66666667, 3.70707071, 3.74747475, 3.78787879,\n",
              "       3.82828283, 3.86868687, 3.90909091, 3.94949495, 3.98989899,\n",
              "       4.03030303, 4.07070707, 4.11111111, 4.15151515, 4.19191919,\n",
              "       4.23232323, 4.27272727, 4.31313131, 4.35353535, 4.39393939,\n",
              "       4.43434343, 4.47474747, 4.51515152, 4.55555556, 4.5959596 ,\n",
              "       4.63636364, 4.67676768, 4.71717172, 4.75757576, 4.7979798 ,\n",
              "       4.83838384, 4.87878788, 4.91919192, 4.95959596, 5.        ])"
            ]
          },
          "metadata": {},
          "execution_count": 47
        }
      ]
    },
    {
      "cell_type": "code",
      "metadata": {
        "colab": {
          "base_uri": "https://localhost:8080/"
        },
        "id": "FkDcrD6TmoAf",
        "outputId": "c4440291-fb60-4b30-a936-1c0629384234"
      },
      "source": [
        "len(x)"
      ],
      "execution_count": null,
      "outputs": [
        {
          "output_type": "execute_result",
          "data": {
            "text/plain": [
              "100"
            ]
          },
          "metadata": {},
          "execution_count": 48
        }
      ]
    },
    {
      "cell_type": "code",
      "metadata": {
        "colab": {
          "base_uri": "https://localhost:8080/"
        },
        "id": "FuixSscmh4dE",
        "outputId": "c0a42fcb-a028-4b2d-bfdf-0780a293c715"
      },
      "source": [
        "y = [10, 22, 34, 42, 51]\n",
        "y = np.array(y)\n",
        "y**2\n",
        "y"
      ],
      "execution_count": null,
      "outputs": [
        {
          "output_type": "execute_result",
          "data": {
            "text/plain": [
              "array([10, 22, 34, 42, 51])"
            ]
          },
          "metadata": {},
          "execution_count": 31
        }
      ]
    },
    {
      "cell_type": "code",
      "metadata": {
        "colab": {
          "base_uri": "https://localhost:8080/"
        },
        "id": "D3E80pArm2ES",
        "outputId": "1f1c6a11-b4b6-410e-b193-878175527d9c"
      },
      "source": [
        "a = [8, 7, 6, 5, 6, 9, 10, 11, 12]\n",
        "\n",
        "len(a)"
      ],
      "execution_count": null,
      "outputs": [
        {
          "output_type": "execute_result",
          "data": {
            "text/plain": [
              "9"
            ]
          },
          "metadata": {},
          "execution_count": 49
        }
      ]
    },
    {
      "cell_type": "code",
      "metadata": {
        "colab": {
          "base_uri": "https://localhost:8080/"
        },
        "id": "IHGVaELbwWxI",
        "outputId": "83ed6c55-942a-4670-b567-6160df7f3df8"
      },
      "source": [
        "# Rounding numbers\n",
        "a = [13.4544, 6.7867, 9.1932, 8.5125, 6.6778]\n",
        "print(a)"
      ],
      "execution_count": null,
      "outputs": [
        {
          "output_type": "stream",
          "name": "stdout",
          "text": [
            "[13.4544, 6.7867, 9.1932, 8.5125, 6.6778]\n"
          ]
        }
      ]
    },
    {
      "cell_type": "code",
      "metadata": {
        "colab": {
          "base_uri": "https://localhost:8080/"
        },
        "id": "ztKxcji7wrMo",
        "outputId": "320b8105-55c9-4e91-88af-8f97daaedb4b"
      },
      "source": [
        "x = 9.8967848484\n",
        "print('My number is', np.round(x, 2))\n",
        "print('My number is {}'.format(np.round(x, 2)))\n",
        "print(f'My number is {x:.2f}')"
      ],
      "execution_count": null,
      "outputs": [
        {
          "output_type": "stream",
          "name": "stdout",
          "text": [
            "My number is 9.9\n",
            "My number is 9.9\n",
            "My number is 9.90\n"
          ]
        }
      ]
    },
    {
      "cell_type": "markdown",
      "source": [
        "### Matrix"
      ],
      "metadata": {
        "id": "pt6b7CDQFOqo"
      }
    },
    {
      "cell_type": "code",
      "metadata": {
        "colab": {
          "base_uri": "https://localhost:8080/"
        },
        "id": "UScB6A96pyjz",
        "outputId": "11c4b2b2-b636-468f-c28c-723a9dc8a03d"
      },
      "source": [
        "x = [[1, 2, 3],\n",
        "     [4, 5, 6],\n",
        "     [7, 8, 9],\n",
        "     [10, 11, 12],\n",
        "     [13, 14, 15]]\n",
        "\n",
        "x"
      ],
      "execution_count": null,
      "outputs": [
        {
          "output_type": "execute_result",
          "data": {
            "text/plain": [
              "[[1, 2, 3], [4, 5, 6], [7, 8, 9], [10, 11, 12], [13, 14, 15]]"
            ]
          },
          "metadata": {},
          "execution_count": 64
        }
      ]
    },
    {
      "cell_type": "code",
      "metadata": {
        "colab": {
          "base_uri": "https://localhost:8080/"
        },
        "id": "Y0aprBIDwAc1",
        "outputId": "bda6fa66-9dfc-4215-d67f-8452f7d8e099"
      },
      "source": [
        "# Make 2x2 matrix from 1 to 4\n",
        "x = [[1,2],[3,4]]\n",
        "x"
      ],
      "execution_count": null,
      "outputs": [
        {
          "output_type": "execute_result",
          "data": {
            "text/plain": [
              "[[1, 2], [3, 4]]"
            ]
          },
          "metadata": {},
          "execution_count": 82
        }
      ]
    },
    {
      "cell_type": "code",
      "metadata": {
        "colab": {
          "base_uri": "https://localhost:8080/"
        },
        "id": "ey6VAGCDo9OM",
        "outputId": "0f8028a3-3852-435f-aa4d-d25f7ab33a4f"
      },
      "source": [
        "# Make a matrix 5x3 from 1 to 9\n",
        "x = np.array([[1, 2, 3],\n",
        "              [4, 5, 6],\n",
        "              [7, 8, 9],\n",
        "              [10, 11, 12],\n",
        "              [13, 14, 15]])\n",
        "x"
      ],
      "execution_count": null,
      "outputs": [
        {
          "output_type": "execute_result",
          "data": {
            "text/plain": [
              "array([[ 1,  2,  3],\n",
              "       [ 4,  5,  6],\n",
              "       [ 7,  8,  9],\n",
              "       [10, 11, 12],\n",
              "       [13, 14, 15]])"
            ]
          },
          "metadata": {},
          "execution_count": 67
        }
      ]
    },
    {
      "cell_type": "code",
      "metadata": {
        "colab": {
          "base_uri": "https://localhost:8080/"
        },
        "id": "MnxbBdIdqRC6",
        "outputId": "2a0087f1-a6c0-4651-945b-ff0c7fb55e74"
      },
      "source": [
        "# Inspect the element (2,3) from the matrix\n",
        "x[1,2]"
      ],
      "execution_count": null,
      "outputs": [
        {
          "output_type": "execute_result",
          "data": {
            "text/plain": [
              "6"
            ]
          },
          "metadata": {},
          "execution_count": 70
        }
      ]
    },
    {
      "cell_type": "code",
      "metadata": {
        "colab": {
          "base_uri": "https://localhost:8080/"
        },
        "id": "v2b8hv1qqjI6",
        "outputId": "9bca7f5c-fe56-49b3-8e1f-71a0d84aa9d4"
      },
      "source": [
        "# First row\n",
        "x[0,:]"
      ],
      "execution_count": null,
      "outputs": [
        {
          "output_type": "execute_result",
          "data": {
            "text/plain": [
              "array([1, 2, 3])"
            ]
          },
          "metadata": {},
          "execution_count": 71
        }
      ]
    },
    {
      "cell_type": "code",
      "metadata": {
        "colab": {
          "base_uri": "https://localhost:8080/"
        },
        "id": "AOR3mOWaqvMp",
        "outputId": "896b727e-b5c2-4de3-9730-4ccdaa41f2f1"
      },
      "source": [
        "# Last row\n",
        "x[-1,:]"
      ],
      "execution_count": null,
      "outputs": [
        {
          "output_type": "execute_result",
          "data": {
            "text/plain": [
              "array([13, 14, 15])"
            ]
          },
          "metadata": {},
          "execution_count": 72
        }
      ]
    },
    {
      "cell_type": "code",
      "metadata": {
        "colab": {
          "base_uri": "https://localhost:8080/"
        },
        "id": "HvQoMidTq3I1",
        "outputId": "4aa74d49-3929-4928-afd0-3c08ed7f6e06"
      },
      "source": [
        "# First column\n",
        "x[:,0]"
      ],
      "execution_count": null,
      "outputs": [
        {
          "output_type": "execute_result",
          "data": {
            "text/plain": [
              "array([ 1,  4,  7, 10, 13])"
            ]
          },
          "metadata": {},
          "execution_count": 73
        }
      ]
    },
    {
      "cell_type": "code",
      "metadata": {
        "colab": {
          "base_uri": "https://localhost:8080/"
        },
        "id": "TAYpoyGyq-JN",
        "outputId": "bee9d69e-1894-4786-8587-ce4b16905571"
      },
      "source": [
        "# Last column\n",
        "x[:,-1]"
      ],
      "execution_count": null,
      "outputs": [
        {
          "output_type": "execute_result",
          "data": {
            "text/plain": [
              "array([ 3,  6,  9, 12, 15])"
            ]
          },
          "metadata": {},
          "execution_count": 74
        }
      ]
    },
    {
      "cell_type": "code",
      "metadata": {
        "colab": {
          "base_uri": "https://localhost:8080/"
        },
        "id": "Sqrs5QbYrCH9",
        "outputId": "89f6ebe5-d950-49fb-d9df-f10cc8898705"
      },
      "source": [
        "# The third row\n",
        "x[2,:]"
      ],
      "execution_count": null,
      "outputs": [
        {
          "output_type": "execute_result",
          "data": {
            "text/plain": [
              "array([7, 8, 9])"
            ]
          },
          "metadata": {},
          "execution_count": 75
        }
      ]
    },
    {
      "cell_type": "code",
      "metadata": {
        "colab": {
          "base_uri": "https://localhost:8080/"
        },
        "id": "96Y3IPh_rP1q",
        "outputId": "a7c7f305-9920-4dc2-c06d-0cfb32805b65"
      },
      "source": [
        "# Transposing matrix\n",
        "xT = np.transpose(x)\n",
        "xT = x.T\n",
        "xT"
      ],
      "execution_count": null,
      "outputs": [
        {
          "output_type": "execute_result",
          "data": {
            "text/plain": [
              "array([[ 1,  4,  7, 10, 13],\n",
              "       [ 2,  5,  8, 11, 14],\n",
              "       [ 3,  6,  9, 12, 15]])"
            ]
          },
          "metadata": {},
          "execution_count": 79
        }
      ]
    },
    {
      "cell_type": "code",
      "metadata": {
        "colab": {
          "base_uri": "https://localhost:8080/"
        },
        "id": "IX43LhzDrcA7",
        "outputId": "758c20f8-33e6-4905-c9bd-59f48f838724"
      },
      "source": [
        "# Multiplying with 5\n",
        "a = x * 5\n",
        "a"
      ],
      "execution_count": null,
      "outputs": [
        {
          "output_type": "execute_result",
          "data": {
            "text/plain": [
              "array([[ 5, 10, 15],\n",
              "       [20, 25, 30],\n",
              "       [35, 40, 45],\n",
              "       [50, 55, 60],\n",
              "       [65, 70, 75]])"
            ]
          },
          "metadata": {},
          "execution_count": 80
        }
      ]
    },
    {
      "cell_type": "code",
      "metadata": {
        "id": "A68gsxuVrsVf",
        "colab": {
          "base_uri": "https://localhost:8080/"
        },
        "outputId": "185f0544-bc18-4821-d83c-edf164441519"
      },
      "source": [
        "# A and B, A is (4,2), B is (2,3)\n",
        "# Multiply A and B\n",
        "A = [[1,2],\n",
        "     [3,4],\n",
        "     [8,9],\n",
        "     [10,19]]\n",
        "\n",
        "B = [[1,3,5],\n",
        "     [6,7,8]]\n",
        "\n",
        "np.matmul(A, B)"
      ],
      "execution_count": null,
      "outputs": [
        {
          "output_type": "execute_result",
          "data": {
            "text/plain": [
              "array([[ 13,  17,  21],\n",
              "       [ 27,  37,  47],\n",
              "       [ 62,  87, 112],\n",
              "       [124, 163, 202]])"
            ]
          },
          "metadata": {},
          "execution_count": 99
        }
      ]
    },
    {
      "cell_type": "code",
      "metadata": {
        "colab": {
          "base_uri": "https://localhost:8080/"
        },
        "id": "Cda7JnuVWQ8s",
        "outputId": "2b28de78-799b-4dd8-fd8b-02f903eceace"
      },
      "source": [
        "g = np.array([45, 67, 89, 67, 100, 34, 23, 45, 67, 100, 45, 12, 34, 56])\n",
        "\n",
        "print(np.min(g))\n",
        "print(np.max(g))\n",
        "\n",
        "# Summary statistics\n",
        "print(np.mean(g))\n",
        "print(np.std(g))\n",
        "print(np.percentile(g, 25)) # 25%\n",
        "print(np.percentile(g, 75)) # 75%\n",
        "\n",
        "# Find the index that meet with certain condition\n",
        "print(np.where(g==max(g)))"
      ],
      "execution_count": null,
      "outputs": [
        {
          "output_type": "stream",
          "name": "stdout",
          "text": [
            "12\n",
            "100\n",
            "56.0\n",
            "26.29502940535666\n",
            "36.75\n",
            "67.0\n",
            "(array([4, 9]),)\n"
          ]
        }
      ]
    },
    {
      "cell_type": "markdown",
      "metadata": {
        "id": "XFbljNx2ncYf"
      },
      "source": [
        "### List comprehension"
      ]
    },
    {
      "cell_type": "code",
      "metadata": {
        "colab": {
          "base_uri": "https://localhost:8080/"
        },
        "id": "vk3XhsKinQhY",
        "outputId": "ee676341-eb58-47c9-b9e8-a879e7c15e61"
      },
      "source": [
        "a = [8, 7, 6, 5, 6, 9, 10, 11, 12]\n",
        "\n",
        "[i + 10 for i in a]"
      ],
      "execution_count": null,
      "outputs": [
        {
          "output_type": "execute_result",
          "data": {
            "text/plain": [
              "[18, 17, 16, 15, 16, 19, 20, 21, 22]"
            ]
          },
          "metadata": {},
          "execution_count": 54
        }
      ]
    },
    {
      "cell_type": "code",
      "metadata": {
        "colab": {
          "base_uri": "https://localhost:8080/"
        },
        "id": "cmp1E8R-jxDp",
        "outputId": "49c723ca-6a08-4517-c363-895f9988e977"
      },
      "source": [
        "a = [8, 7, 6, 5, 6, 9, 10, 11, 12]\n",
        "\n",
        "for i in a:\n",
        "  if i==6:\n",
        "    print(i+12)\n",
        "  else:\n",
        "    print(i+7)"
      ],
      "execution_count": null,
      "outputs": [
        {
          "output_type": "stream",
          "name": "stdout",
          "text": [
            "15\n",
            "14\n",
            "18\n",
            "12\n",
            "18\n",
            "16\n",
            "17\n",
            "18\n",
            "19\n"
          ]
        }
      ]
    },
    {
      "cell_type": "code",
      "metadata": {
        "colab": {
          "base_uri": "https://localhost:8080/"
        },
        "id": "8whfbfkEmhRO",
        "outputId": "26c16622-dd2e-498a-bc55-4aa8ffdbc1cb"
      },
      "source": [
        "a = [8, 7, 6, 5, 6, 9, 10, 11, 12]\n",
        "\n",
        "for i in range(len(a)):\n",
        "  if i==6:\n",
        "    print(a[i]+12)\n",
        "  else:\n",
        "    print(a[i]+7)"
      ],
      "execution_count": null,
      "outputs": [
        {
          "output_type": "stream",
          "name": "stdout",
          "text": [
            "15\n",
            "14\n",
            "13\n",
            "12\n",
            "13\n",
            "16\n",
            "22\n",
            "18\n",
            "19\n"
          ]
        }
      ]
    },
    {
      "cell_type": "markdown",
      "source": [
        "## 1b Matrix operation"
      ],
      "metadata": {
        "id": "ov54apqSFWZ-"
      }
    },
    {
      "cell_type": "code",
      "metadata": {
        "colab": {
          "base_uri": "https://localhost:8080/"
        },
        "outputId": "a7c7f305-9920-4dc2-c06d-0cfb32805b65",
        "id": "hyP28CQWFpgZ"
      },
      "source": [
        "# Transposing matrix\n",
        "xT = np.transpose(x)\n",
        "xT = x.T\n",
        "xT"
      ],
      "execution_count": null,
      "outputs": [
        {
          "output_type": "execute_result",
          "data": {
            "text/plain": [
              "array([[ 1,  4,  7, 10, 13],\n",
              "       [ 2,  5,  8, 11, 14],\n",
              "       [ 3,  6,  9, 12, 15]])"
            ]
          },
          "metadata": {},
          "execution_count": 79
        }
      ]
    },
    {
      "cell_type": "code",
      "metadata": {
        "colab": {
          "base_uri": "https://localhost:8080/"
        },
        "outputId": "758c20f8-33e6-4905-c9bd-59f48f838724",
        "id": "Opp5NPVZFpgZ"
      },
      "source": [
        "# Multiplying with 5\n",
        "a = x * 5\n",
        "a"
      ],
      "execution_count": null,
      "outputs": [
        {
          "output_type": "execute_result",
          "data": {
            "text/plain": [
              "array([[ 5, 10, 15],\n",
              "       [20, 25, 30],\n",
              "       [35, 40, 45],\n",
              "       [50, 55, 60],\n",
              "       [65, 70, 75]])"
            ]
          },
          "metadata": {},
          "execution_count": 80
        }
      ]
    },
    {
      "cell_type": "code",
      "metadata": {
        "colab": {
          "base_uri": "https://localhost:8080/"
        },
        "outputId": "246ef68b-ad02-48b1-fa21-c7705ed1c2c1",
        "id": "tW0vQq1bFpgZ"
      },
      "source": [
        "\n",
        "# A and B, A is (4,2), B is (2,3)\n",
        "# Multiply A and B\n",
        "A = [[1,2],\n",
        "     [3,4],\n",
        "     [8,9],\n",
        "     [10,19]]\n",
        "\n",
        "B = [[1,3,5],\n",
        "     [6,7,8]]\n",
        "\n",
        "print(np.matmul(A, B))\n"
      ],
      "execution_count": null,
      "outputs": [
        {
          "output_type": "stream",
          "name": "stdout",
          "text": [
            "[[ 13  17  21]\n",
            " [ 27  37  47]\n",
            " [ 62  87 112]\n",
            " [124 163 202]]\n"
          ]
        }
      ]
    },
    {
      "cell_type": "code",
      "source": [
        "A = np.array([[1,2],\n",
        "     [3,4],\n",
        "     [8,9],\n",
        "     [10,19]])\n",
        "\n",
        "B = np.array([[1,3,5],\n",
        "     [6,7,8]])\n",
        "\n",
        "A @ B\n"
      ],
      "metadata": {
        "colab": {
          "base_uri": "https://localhost:8080/"
        },
        "id": "PIwQvKz0F6uH",
        "outputId": "440f326d-0215-4794-9bb1-a271869c1baa"
      },
      "execution_count": null,
      "outputs": [
        {
          "output_type": "execute_result",
          "data": {
            "text/plain": [
              "array([[ 13,  17,  21],\n",
              "       [ 27,  37,  47],\n",
              "       [ 62,  87, 112],\n",
              "       [124, 163, 202]])"
            ]
          },
          "metadata": {},
          "execution_count": 6
        }
      ]
    },
    {
      "cell_type": "code",
      "source": [
        "B = np.array(\n",
        "    [\n",
        "        [1,3,5],\n",
        "        [6,70,8],\n",
        "        [9,10,11]\n",
        "        ]\n",
        "    )\n",
        "\n",
        "np.linalg.inv(B)"
      ],
      "metadata": {
        "colab": {
          "base_uri": "https://localhost:8080/"
        },
        "id": "9m5NB5ruGGQO",
        "outputId": "ea571451-81fa-4222-c891-708b34702106"
      },
      "execution_count": null,
      "outputs": [
        {
          "output_type": "execute_result",
          "data": {
            "text/plain": [
              "array([[-0.32212885, -0.00793651,  0.15219421],\n",
              "       [-0.00280112,  0.01587302, -0.01027077],\n",
              "       [ 0.26610644, -0.00793651, -0.02427638]])"
            ]
          },
          "metadata": {},
          "execution_count": 11
        }
      ]
    },
    {
      "cell_type": "code",
      "metadata": {
        "colab": {
          "base_uri": "https://localhost:8080/"
        },
        "outputId": "2b28de78-799b-4dd8-fd8b-02f903eceace",
        "id": "v5v-MX8WFpgZ"
      },
      "source": [
        "g = np.array([45, 67, 89, 67, 100, 34, 23, 45, 67, 100, 45, 12, 34, 56])\n",
        "\n",
        "print(np.min(g))\n",
        "print(np.max(g))\n",
        "\n",
        "# Summary statistics\n",
        "print(np.mean(g))\n",
        "print(np.std(g))\n",
        "print(np.percentile(g, 25)) # 25%\n",
        "print(np.percentile(g, 75)) # 75%\n",
        "\n",
        "# Find the index that meet with certain condition\n",
        "print(np.where(g==max(g)))"
      ],
      "execution_count": null,
      "outputs": [
        {
          "output_type": "stream",
          "name": "stdout",
          "text": [
            "12\n",
            "100\n",
            "56.0\n",
            "26.29502940535666\n",
            "36.75\n",
            "67.0\n",
            "(array([4, 9]),)\n"
          ]
        }
      ]
    },
    {
      "cell_type": "code",
      "source": [],
      "metadata": {
        "id": "ufZHxvvgFYQs"
      },
      "execution_count": null,
      "outputs": []
    },
    {
      "cell_type": "markdown",
      "metadata": {
        "id": "OIyTZRIHN5qg"
      },
      "source": [
        "### Multimin"
      ]
    },
    {
      "cell_type": "code",
      "metadata": {
        "colab": {
          "base_uri": "https://localhost:8080/"
        },
        "id": "iGB0Hc7ZHZpk",
        "outputId": "021d5a6d-c015-438c-ac87-6b38ecdae3d3"
      },
      "source": [
        "# Define measured data\n",
        "DT_meas, RHOB_meas, NPHI_meas = 75, 2.4, 0.2\n",
        "\n",
        "# Our mineral database\n",
        "DT_qtz, DT_cal, DT_dol, DT_f = 55.5, 47.5, 43.5, 189\n",
        "RHOB_qtz, RHOB_cal, RHOB_dol, RHOB_f = 2.65, 2.7, 2.8, 1.05\n",
        "NPHI_qtz, NPHI_cal, NPHI_dol, NPHI_f = -0.04, 0, 0.05, 1\n",
        "\n",
        "# Create 2D matrix for database\n",
        "A = np.array([[DT_qtz, DT_cal, DT_dol, DT_f],\n",
        "     [RHOB_qtz, RHOB_cal, RHOB_dol, RHOB_f],\n",
        "     [NPHI_qtz, NPHI_cal, NPHI_dol, NPHI_f],\n",
        "     [1, 1, 1, 1]])\n",
        "\n",
        "B = np.array([[DT_meas],\n",
        "              [RHOB_meas],\n",
        "              [NPHI_meas],\n",
        "              [1]])\n",
        "\n",
        "# Invert A matrix\n",
        "A_inv = np.linalg.inv(A)\n",
        "\n",
        "# Multiply A-1 with B to find x\n",
        "x = A_inv @ B\n",
        "\n",
        "print(x)"
      ],
      "execution_count": null,
      "outputs": [
        {
          "output_type": "stream",
          "name": "stdout",
          "text": [
            "[[0.15414856]\n",
            " [0.39044072]\n",
            " [0.26236292]\n",
            " [0.1930478 ]]\n"
          ]
        }
      ]
    },
    {
      "cell_type": "code",
      "metadata": {
        "colab": {
          "base_uri": "https://localhost:8080/"
        },
        "id": "pt7j0y1hKZs6",
        "outputId": "11bb06ce-326c-402d-8474-1cf37e4f2b59"
      },
      "source": [
        "X_qtz, X_cal, X_dol, porosity = x[0,:], x[1,:], x[2,:], x[3,:]\n",
        "X_qtz"
      ],
      "execution_count": null,
      "outputs": [
        {
          "output_type": "execute_result",
          "data": {
            "text/plain": [
              "array([0.15414856])"
            ]
          },
          "metadata": {},
          "execution_count": 235
        }
      ]
    },
    {
      "cell_type": "code",
      "metadata": {
        "id": "-ks4Vn9oJkDe"
      },
      "source": [
        "def multimin(DT_meas, RHOB_meas, NPHI_meas):\n",
        "  \"\"\"\n",
        "  This is a function to calculate mineral fractions\n",
        "  Given measured well log data\n",
        "  Assumption: Rock is composed of ONLY 3 minerals\n",
        "\n",
        "  INPUT:\n",
        "\n",
        "  DT_meas: measured sonic log\n",
        "  RHOB_meas: measured bulk density\n",
        "  NPHI_meas: measured neutron porosity\n",
        "\n",
        "  OUTPUT:\n",
        "\n",
        "  X_qtz, X_cal, X_dol, porosity: These are the fractions\n",
        "  \"\"\"\n",
        "  # Our mineral database\n",
        "  DT_qtz, DT_cal, DT_dol, DT_f = 55.5, 47.5, 43.5, 189\n",
        "  RHOB_qtz, RHOB_cal, RHOB_dol, RHOB_f = 2.65, 2.7, 2.8, 1.05\n",
        "  NPHI_qtz, NPHI_cal, NPHI_dol, NPHI_f = -0.04, 0, 0.05, 1\n",
        "\n",
        "  # Create 2D matrix for database\n",
        "  A = np.array([[DT_qtz, DT_cal, DT_dol, DT_f],\n",
        "      [RHOB_qtz, RHOB_cal, RHOB_dol, RHOB_f],\n",
        "      [NPHI_qtz, NPHI_cal, NPHI_dol, NPHI_f],\n",
        "      [1, 1, 1, 1]])\n",
        "\n",
        "  B = np.array([[DT_meas],\n",
        "                [RHOB_meas],\n",
        "                [NPHI_meas],\n",
        "                [1]])\n",
        "\n",
        "  # Invert A matrix\n",
        "  A_inv = np.linalg.inv(A)\n",
        "\n",
        "  # Multiply A-1 with B to find x\n",
        "  x = A_inv @ B\n",
        "\n",
        "  X_qtz, X_cal, X_dol, porosity = x[0,:], x[1,:], x[2,:], x[3,:]\n",
        "\n",
        "  return X_qtz, X_cal, X_dol, porosity"
      ],
      "execution_count": null,
      "outputs": []
    },
    {
      "cell_type": "code",
      "metadata": {
        "colab": {
          "base_uri": "https://localhost:8080/"
        },
        "id": "SwnM1_gTMGWM",
        "outputId": "bf3728b4-fe6b-4c03-df53-563e1d51bb08"
      },
      "source": [
        "help(multimin)"
      ],
      "execution_count": null,
      "outputs": [
        {
          "output_type": "stream",
          "name": "stdout",
          "text": [
            "Help on function multimin in module __main__:\n",
            "\n",
            "multimin(DT_meas, RHOB_meas, NPHI_meas)\n",
            "    This is a function to calculate mineral fractions\n",
            "    Given measured well log data\n",
            "    Assumption: Rock is composed of ONLY 3 minerals\n",
            "    \n",
            "    INPUT:\n",
            "    \n",
            "    DT_meas: measured sonic log\n",
            "    RHOB_meas: measured bulk density\n",
            "    NPHI_meas: measured neutron porosity\n",
            "    \n",
            "    OUTPUT:\n",
            "    \n",
            "    X_qtz, X_cal, X_dol, porosity: These are the fractions\n",
            "\n"
          ]
        }
      ]
    },
    {
      "cell_type": "code",
      "metadata": {
        "colab": {
          "base_uri": "https://localhost:8080/"
        },
        "id": "LDbS8gvzLE2l",
        "outputId": "4e6ac3e7-33a4-4c4b-fe13-f56519afffae"
      },
      "source": [
        "# Implement function\n",
        "DT_meas, RHOB_meas, NPHI_meas = 75, 2.4, 0.2\n",
        "X_qtz, X_cal, X_dol, porosity = multimin(DT_meas, RHOB_meas, NPHI_meas)\n",
        "\n",
        "print(X_qtz)"
      ],
      "execution_count": null,
      "outputs": [
        {
          "output_type": "stream",
          "name": "stdout",
          "text": [
            "[0.15414856]\n"
          ]
        }
      ]
    },
    {
      "cell_type": "markdown",
      "metadata": {
        "id": "cjtpvtoxWOQP"
      },
      "source": [
        "## 1c Visualization"
      ]
    },
    {
      "cell_type": "code",
      "source": [
        "# make a trigonometric array\n",
        "x = np.linspace(0,360,100)\n",
        "xrad = np.deg2rad(x)\n",
        "\n",
        "y1 = np.sin(xrad)\n",
        "y2 = np.cos(xrad)\n",
        "\n",
        "# plot this function\n",
        "plt.plot(xrad, y1)\n",
        "plt.plot(xrad, y2)\n",
        "plt.title('Trigonometric Function', size=20, pad=10)\n",
        "plt.xlabel('X')\n",
        "plt.ylabel('Y')\n",
        "# plt.xlim(min(x), max(x))\n",
        "\n",
        "plt.show()"
      ],
      "metadata": {
        "colab": {
          "base_uri": "https://localhost:8080/",
          "height": 485
        },
        "id": "o9YZeE2MG2za",
        "outputId": "9ac0f94d-336f-47af-9bf4-14ffccd2f0b9"
      },
      "execution_count": null,
      "outputs": [
        {
          "output_type": "display_data",
          "data": {
            "text/plain": [
              "<Figure size 640x480 with 1 Axes>"
            ],
            "image/png": "[encoded data removed]"
          },
          "metadata": {}
        }
      ]
    },
    {
      "cell_type": "code",
      "source": [
        "def sine(x):\n",
        "  y = np.sin(x)\n",
        "  return y\n",
        "\n",
        "def cosine(x):\n",
        "  y = np.cos(x)\n",
        "  return y\n",
        "\n",
        "c = np.linspace(0, 360, 100) # degree\n",
        "c = np.deg2rad(c)\n",
        "\n",
        "y = sine(c)\n",
        "y1 = cosine(c)"
      ],
      "metadata": {
        "id": "1O4RJYX1HVHj"
      },
      "execution_count": null,
      "outputs": []
    },
    {
      "cell_type": "code",
      "source": [
        "# generate an array consisting random numbers from 0 to 1, 50 numbers\n",
        "noise = np.random.random(100)\n",
        "\n",
        "print(noise)"
      ],
      "metadata": {
        "colab": {
          "base_uri": "https://localhost:8080/"
        },
        "id": "Dq-V34TJKHwb",
        "outputId": "17aa31b3-86c2-4530-8125-111c78e2ac3d"
      },
      "execution_count": null,
      "outputs": [
        {
          "output_type": "stream",
          "name": "stdout",
          "text": [
            "[0.96395144 0.87634249 0.49368722 0.65878397 0.753577   0.33651105\n",
            " 0.82957615 0.87681739 0.59678925 0.47928168 0.98141048 0.43838874\n",
            " 0.45122299 0.69211076 0.83186109 0.64137921 0.0501093  0.04749271\n",
            " 0.8933971  0.05607784 0.91519596 0.57314107 0.86160464 0.0973929\n",
            " 0.54182864 0.10730912 0.22428285 0.61329544 0.15205777 0.65589442\n",
            " 0.00143245 0.4543384  0.1874689  0.82770672 0.30912682 0.43409769\n",
            " 0.07221271 0.98338375 0.11472377 0.01743053 0.25579381 0.75405\n",
            " 0.96631511 0.67918132 0.38801445 0.60471266 0.91051409 0.53593203\n",
            " 0.13438832 0.14130552 0.73667932 0.60915864 0.10215692 0.52345564\n",
            " 0.06116646 0.54683102 0.39449837 0.03156849 0.58665056 0.43569325\n",
            " 0.12563836 0.56491476 0.10564619 0.72710885 0.88083646 0.53841195\n",
            " 0.91321367 0.62523671 0.8620041  0.77001629 0.54093448 0.5720042\n",
            " 0.17043015 0.83443492 0.16975867 0.79852868 0.88638938 0.49031949\n",
            " 0.91401261 0.96436804 0.84624136 0.54858365 0.26705262 0.09921925\n",
            " 0.69676905 0.33196968 0.45969494 0.95295362 0.74032816 0.83805279\n",
            " 0.04940321 0.07200388 0.19678787 0.97967841 0.98719877 0.72453541\n",
            " 0.89289902 0.76324926 0.01765077 0.72049271]\n"
          ]
        }
      ]
    },
    {
      "cell_type": "code",
      "source": [
        "plt.plot(c, y)\n",
        "plt.plot(c, y+noise)"
      ],
      "metadata": {
        "colab": {
          "base_uri": "https://localhost:8080/",
          "height": 452
        },
        "id": "emXcDBdfKMOG",
        "outputId": "ef241ac2-b41b-419d-e04e-8c91a9fb95b9"
      },
      "execution_count": null,
      "outputs": [
        {
          "output_type": "execute_result",
          "data": {
            "text/plain": [
              "[<matplotlib.lines.Line2D at 0x7cd058155a50>]"
            ]
          },
          "metadata": {},
          "execution_count": 15
        },
        {
          "output_type": "display_data",
          "data": {
            "text/plain": [
              "<Figure size 640x480 with 1 Axes>"
            ],
            "image/png": "[encoded data removed]"
          },
          "metadata": {}
        }
      ]
    },
    {
      "cell_type": "code",
      "metadata": {
        "colab": {
          "base_uri": "https://localhost:8080/",
          "height": 265
        },
        "id": "EYK7xZyY1txo",
        "outputId": "b0c37d1a-607b-4665-aa42-c273a82bae93"
      },
      "source": [
        "# Make a random number consists of 100 numbers from 0 to 1\n",
        "g = np.random.random(100)\n",
        "\n",
        "plt.hist(g, bins=np.arange(0,1,0.05), label='Saturation')\n",
        "plt.legend()\n",
        "plt.show()"
      ],
      "execution_count": null,
      "outputs": [
        {
          "output_type": "display_data",
          "data": {
            "image/png": "[encoded data removed]",
            "text/plain": [
              "<Figure size 432x288 with 1 Axes>"
            ]
          },
          "metadata": {
            "needs_background": "light"
          }
        }
      ]
    },
    {
      "cell_type": "markdown",
      "source": [
        "## 1d Dataframes"
      ],
      "metadata": {
        "id": "D0FvUlK0-A4W"
      }
    },
    {
      "cell_type": "code",
      "source": [
        "import pandas as pd\n",
        "\n",
        "df = pd.DataFrame({\n",
        "    \"Name\": [\"Elon Musk\", \"Sam Altman\", \"Bill Gates\", \"Sundar Pichai\", \"A Karpathy\"],\n",
        "    \"Role\": [\"CEO\", \"CEO\", \"Founder\", \"CEO\", \"Head AI\"],\n",
        "    \"Company\": [\"SpaceX\", \"OpenAI\", \"Microsoft\", \"Google\", \"Tesla\"],\n",
        "    \"Born\": pd.to_datetime([\"1971-06-28\", \"1985-04-22\", \"1955-10-28\",\n",
        "                            \"1972-06-10\", \"1986-10-23\"], format=\"%Y-%m-%d\")\n",
        "})\n",
        "\n",
        "df"
      ],
      "metadata": {
        "colab": {
          "base_uri": "https://localhost:8080/",
          "height": 206
        },
        "id": "RsUNGV1k-CIU",
        "outputId": "69783fc1-1400-413f-b1a9-9bb7d8b5b828"
      },
      "execution_count": null,
      "outputs": [
        {
          "output_type": "execute_result",
          "data": {
            "text/plain": [
              "            Name     Role    Company       Born\n",
              "0      Elon Musk      CEO     SpaceX 1971-06-28\n",
              "1     Sam Altman      CEO     OpenAI 1985-04-22\n",
              "2     Bill Gates  Founder  Microsoft 1955-10-28\n",
              "3  Sundar Pichai      CEO     Google 1972-06-10\n",
              "4     A Karpathy  Head AI      Tesla 1986-10-23"
            ],
            "text/html": [
              "\n",
              "  <div id=\"df-a43003ea-377a-4ce4-8f74-bb3437db86d5\" class=\"colab-df-container\">\n",
              "    <div>\n",
              "<style scoped>\n",
              "    .dataframe tbody tr th:only-of-type {\n",
              "        vertical-align: middle;\n",
              "    }\n",
              "\n",
              "    .dataframe tbody tr th {\n",
              "        vertical-align: top;\n",
              "    }\n",
              "\n",
              "    .dataframe thead th {\n",
              "        text-align: right;\n",
              "    }\n",
              "</style>\n",
              "<table border=\"1\" class=\"dataframe\">\n",
              "  <thead>\n",
              "    <tr style=\"text-align: right;\">\n",
              "      <th></th>\n",
              "      <th>Name</th>\n",
              "      <th>Role</th>\n",
              "      <th>Company</th>\n",
              "      <th>Born</th>\n",
              "    </tr>\n",
              "  </thead>\n",
              "  <tbody>\n",
              "    <tr>\n",
              "      <th>0</th>\n",
              "      <td>Elon Musk</td>\n",
              "      <td>CEO</td>\n",
              "      <td>SpaceX</td>\n",
              "      <td>1971-06-28</td>\n",
              "    </tr>\n",
              "    <tr>\n",
              "      <th>1</th>\n",
              "      <td>Sam Altman</td>\n",
              "      <td>CEO</td>\n",
              "      <td>OpenAI</td>\n",
              "      <td>1985-04-22</td>\n",
              "    </tr>\n",
              "    <tr>\n",
              "      <th>2</th>\n",
              "      <td>Bill Gates</td>\n",
              "      <td>Founder</td>\n",
              "      <td>Microsoft</td>\n",
              "      <td>1955-10-28</td>\n",
              "    </tr>\n",
              "    <tr>\n",
              "      <th>3</th>\n",
              "      <td>Sundar Pichai</td>\n",
              "      <td>CEO</td>\n",
              "      <td>Google</td>\n",
              "      <td>1972-06-10</td>\n",
              "    </tr>\n",
              "    <tr>\n",
              "      <th>4</th>\n",
              "      <td>A Karpathy</td>\n",
              "      <td>Head AI</td>\n",
              "      <td>Tesla</td>\n",
              "      <td>1986-10-23</td>\n",
              "    </tr>\n",
              "  </tbody>\n",
              "</table>\n",
              "</div>\n",
              "    <div class=\"colab-df-buttons\">\n",
              "\n",
              "  <div class=\"colab-df-container\">\n",
              "    <button class=\"colab-df-convert\" onclick=\"convertToInteractive('df-a43003ea-377a-4ce4-8f74-bb3437db86d5')\"\n",
              "            title=\"Convert this dataframe to an interactive table.\"\n",
              "            style=\"display:none;\">\n",
              "\n",
              "  <svg xmlns=\"http://www.w3.org/2000/svg\" height=\"24px\" viewBox=\"0 -960 960 960\">\n",
              "    <path d=\"M120-120v-720h720v720H120Zm60-500h600v-160H180v160Zm220 220h160v-160H400v160Zm0 220h160v-160H400v160ZM180-400h160v-160H180v160Zm440 0h160v-160H620v160ZM180-180h160v-160H180v160Zm440 0h160v-160H620v160Z\"/>\n",
              "  </svg>\n",
              "    </button>\n",
              "\n",
              "  <style>\n",
              "    .colab-df-container {\n",
              "      display:flex;\n",
              "      gap: 12px;\n",
              "    }\n",
              "\n",
              "    .colab-df-convert {\n",
              "      background-color: #E8F0FE;\n",
              "      border: none;\n",
              "      border-radius: 50%;\n",
              "      cursor: pointer;\n",
              "      display: none;\n",
              "      fill: #1967D2;\n",
              "      height: 32px;\n",
              "      padding: 0 0 0 0;\n",
              "      width: 32px;\n",
              "    }\n",
              "\n",
              "    .colab-df-convert:hover {\n",
              "      background-color: #E2EBFA;\n",
              "      box-shadow: 0px 1px 2px rgba(60, 64, 67, 0.3), 0px 1px 3px 1px rgba(60, 64, 67, 0.15);\n",
              "      fill: #174EA6;\n",
              "    }\n",
              "\n",
              "    .colab-df-buttons div {\n",
              "      margin-bottom: 4px;\n",
              "    }\n",
              "\n",
              "    [theme=dark] .colab-df-convert {\n",
              "      background-color: #3B4455;\n",
              "      fill: #D2E3FC;\n",
              "    }\n",
              "\n",
              "    [theme=dark] .colab-df-convert:hover {\n",
              "      background-color: #434B5C;\n",
              "      box-shadow: 0px 1px 3px 1px rgba(0, 0, 0, 0.15);\n",
              "      filter: drop-shadow(0px 1px 2px rgba(0, 0, 0, 0.3));\n",
              "      fill: #FFFFFF;\n",
              "    }\n",
              "  </style>\n",
              "\n",
              "    <script>\n",
              "      const buttonEl =\n",
              "        document.querySelector('#df-a43003ea-377a-4ce4-8f74-bb3437db86d5 button.colab-df-convert');\n",
              "      buttonEl.style.display =\n",
              "        google.colab.kernel.accessAllowed ? 'block' : 'none';\n",
              "\n",
              "      async function convertToInteractive(key) {\n",
              "        const element = document.querySelector('#df-a43003ea-377a-4ce4-8f74-bb3437db86d5');\n",
              "        const dataTable =\n",
              "          await google.colab.kernel.invokeFunction('convertToInteractive',\n",
              "                                                    [key], {});\n",
              "        if (!dataTable) return;\n",
              "\n",
              "        const docLinkHtml = 'Like what you see? Visit the ' +\n",
              "          '<a target=\"_blank\" href=https://colab.research.google.com/notebooks/data_table.ipynb>data table notebook</a>'\n",
              "          + ' to learn more about interactive tables.';\n",
              "        element.innerHTML = '';\n",
              "        dataTable['output_type'] = 'display_data';\n",
              "        await google.colab.output.renderOutput(dataTable, element);\n",
              "        const docLink = document.createElement('div');\n",
              "        docLink.innerHTML = docLinkHtml;\n",
              "        element.appendChild(docLink);\n",
              "      }\n",
              "    </script>\n",
              "  </div>\n",
              "\n",
              "\n",
              "    <div id=\"df-bedc6d09-082a-473e-ac24-ee50c6bc5756\">\n",
              "      <button class=\"colab-df-quickchart\" onclick=\"quickchart('df-bedc6d09-082a-473e-ac24-ee50c6bc5756')\"\n",
              "                title=\"Suggest charts\"\n",
              "                style=\"display:none;\">\n",
              "\n",
              "<svg xmlns=\"http://www.w3.org/2000/svg\" height=\"24px\"viewBox=\"0 0 24 24\"\n",
              "     width=\"24px\">\n",
              "    <g>\n",
              "        <path d=\"M19 3H5c-1.1 0-2 .9-2 2v14c0 1.1.9 2 2 2h14c1.1 0 2-.9 2-2V5c0-1.1-.9-2-2-2zM9 17H7v-7h2v7zm4 0h-2V7h2v10zm4 0h-2v-4h2v4z\"/>\n",
              "    </g>\n",
              "</svg>\n",
              "      </button>\n",
              "\n",
              "<style>\n",
              "  .colab-df-quickchart {\n",
              "      --bg-color: #E8F0FE;\n",
              "      --fill-color: #1967D2;\n",
              "      --hover-bg-color: #E2EBFA;\n",
              "      --hover-fill-color: #174EA6;\n",
              "      --disabled-fill-color: #AAA;\n",
              "      --disabled-bg-color: #DDD;\n",
              "  }\n",
              "\n",
              "  [theme=dark] .colab-df-quickchart {\n",
              "      --bg-color: #3B4455;\n",
              "      --fill-color: #D2E3FC;\n",
              "      --hover-bg-color: #434B5C;\n",
              "      --hover-fill-color: #FFFFFF;\n",
              "      --disabled-bg-color: #3B4455;\n",
              "      --disabled-fill-color: #666;\n",
              "  }\n",
              "\n",
              "  .colab-df-quickchart {\n",
              "    background-color: var(--bg-color);\n",
              "    border: none;\n",
              "    border-radius: 50%;\n",
              "    cursor: pointer;\n",
              "    display: none;\n",
              "    fill: var(--fill-color);\n",
              "    height: 32px;\n",
              "    padding: 0;\n",
              "    width: 32px;\n",
              "  }\n",
              "\n",
              "  .colab-df-quickchart:hover {\n",
              "    background-color: var(--hover-bg-color);\n",
              "    box-shadow: 0 1px 2px rgba(60, 64, 67, 0.3), 0 1px 3px 1px rgba(60, 64, 67, 0.15);\n",
              "    fill: var(--button-hover-fill-color);\n",
              "  }\n",
              "\n",
              "  .colab-df-quickchart-complete:disabled,\n",
              "  .colab-df-quickchart-complete:disabled:hover {\n",
              "    background-color: var(--disabled-bg-color);\n",
              "    fill: var(--disabled-fill-color);\n",
              "    box-shadow: none;\n",
              "  }\n",
              "\n",
              "  .colab-df-spinner {\n",
              "    border: 2px solid var(--fill-color);\n",
              "    border-color: transparent;\n",
              "    border-bottom-color: var(--fill-color);\n",
              "    animation:\n",
              "      spin 1s steps(1) infinite;\n",
              "  }\n",
              "\n",
              "  @keyframes spin {\n",
              "    0% {\n",
              "      border-color: transparent;\n",
              "      border-bottom-color: var(--fill-color);\n",
              "      border-left-color: var(--fill-color);\n",
              "    }\n",
              "    20% {\n",
              "      border-color: transparent;\n",
              "      border-left-color: var(--fill-color);\n",
              "      border-top-color: var(--fill-color);\n",
              "    }\n",
              "    30% {\n",
              "      border-color: transparent;\n",
              "      border-left-color: var(--fill-color);\n",
              "      border-top-color: var(--fill-color);\n",
              "      border-right-color: var(--fill-color);\n",
              "    }\n",
              "    40% {\n",
              "      border-color: transparent;\n",
              "      border-right-color: var(--fill-color);\n",
              "      border-top-color: var(--fill-color);\n",
              "    }\n",
              "    60% {\n",
              "      border-color: transparent;\n",
              "      border-right-color: var(--fill-color);\n",
              "    }\n",
              "    80% {\n",
              "      border-color: transparent;\n",
              "      border-right-color: var(--fill-color);\n",
              "      border-bottom-color: var(--fill-color);\n",
              "    }\n",
              "    90% {\n",
              "      border-color: transparent;\n",
              "      border-bottom-color: var(--fill-color);\n",
              "    }\n",
              "  }\n",
              "</style>\n",
              "\n",
              "      <script>\n",
              "        async function quickchart(key) {\n",
              "          const quickchartButtonEl =\n",
              "            document.querySelector('#' + key + ' button');\n",
              "          quickchartButtonEl.disabled = true;  // To prevent multiple clicks.\n",
              "          quickchartButtonEl.classList.add('colab-df-spinner');\n",
              "          try {\n",
              "            const charts = await google.colab.kernel.invokeFunction(\n",
              "                'suggestCharts', [key], {});\n",
              "          } catch (error) {\n",
              "            console.error('Error during call to suggestCharts:', error);\n",
              "          }\n",
              "          quickchartButtonEl.classList.remove('colab-df-spinner');\n",
              "          quickchartButtonEl.classList.add('colab-df-quickchart-complete');\n",
              "        }\n",
              "        (() => {\n",
              "          let quickchartButtonEl =\n",
              "            document.querySelector('#df-bedc6d09-082a-473e-ac24-ee50c6bc5756 button');\n",
              "          quickchartButtonEl.style.display =\n",
              "            google.colab.kernel.accessAllowed ? 'block' : 'none';\n",
              "        })();\n",
              "      </script>\n",
              "    </div>\n",
              "\n",
              "  <div id=\"id_c64ddaec-1def-4030-8b83-31be2de51380\">\n",
              "    <style>\n",
              "      .colab-df-generate {\n",
              "        background-color: #E8F0FE;\n",
              "        border: none;\n",
              "        border-radius: 50%;\n",
              "        cursor: pointer;\n",
              "        display: none;\n",
              "        fill: #1967D2;\n",
              "        height: 32px;\n",
              "        padding: 0 0 0 0;\n",
              "        width: 32px;\n",
              "      }\n",
              "\n",
              "      .colab-df-generate:hover {\n",
              "        background-color: #E2EBFA;\n",
              "        box-shadow: 0px 1px 2px rgba(60, 64, 67, 0.3), 0px 1px 3px 1px rgba(60, 64, 67, 0.15);\n",
              "        fill: #174EA6;\n",
              "      }\n",
              "\n",
              "      [theme=dark] .colab-df-generate {\n",
              "        background-color: #3B4455;\n",
              "        fill: #D2E3FC;\n",
              "      }\n",
              "\n",
              "      [theme=dark] .colab-df-generate:hover {\n",
              "        background-color: #434B5C;\n",
              "        box-shadow: 0px 1px 3px 1px rgba(0, 0, 0, 0.15);\n",
              "        filter: drop-shadow(0px 1px 2px rgba(0, 0, 0, 0.3));\n",
              "        fill: #FFFFFF;\n",
              "      }\n",
              "    </style>\n",
              "    <button class=\"colab-df-generate\" onclick=\"generateWithVariable('df')\"\n",
              "            title=\"Generate code using this dataframe.\"\n",
              "            style=\"display:none;\">\n",
              "\n",
              "  <svg xmlns=\"http://www.w3.org/2000/svg\" height=\"24px\"viewBox=\"0 0 24 24\"\n",
              "       width=\"24px\">\n",
              "    <path d=\"M7,19H8.4L18.45,9,17,7.55,7,17.6ZM5,21V16.75L18.45,3.32a2,2,0,0,1,2.83,0l1.4,1.43a1.91,1.91,0,0,1,.58,1.4,1.91,1.91,0,0,1-.58,1.4L9.25,21ZM18.45,9,17,7.55Zm-12,3A5.31,5.31,0,0,0,4.9,8.1,5.31,5.31,0,0,0,1,6.5,5.31,5.31,0,0,0,4.9,4.9,5.31,5.31,0,0,0,6.5,1,5.31,5.31,0,0,0,8.1,4.9,5.31,5.31,0,0,0,12,6.5,5.46,5.46,0,0,0,6.5,12Z\"/>\n",
              "  </svg>\n",
              "    </button>\n",
              "    <script>\n",
              "      (() => {\n",
              "      const buttonEl =\n",
              "        document.querySelector('#id_c64ddaec-1def-4030-8b83-31be2de51380 button.colab-df-generate');\n",
              "      buttonEl.style.display =\n",
              "        google.colab.kernel.accessAllowed ? 'block' : 'none';\n",
              "\n",
              "      buttonEl.onclick = () => {\n",
              "        google.colab.notebook.generateWithVariable('df');\n",
              "      }\n",
              "      })();\n",
              "    </script>\n",
              "  </div>\n",
              "\n",
              "    </div>\n",
              "  </div>\n"
            ],
            "application/vnd.google.colaboratory.intrinsic+json": {
              "type": "dataframe",
              "variable_name": "df",
              "summary": "{\n  \"name\": \"df\",\n  \"rows\": 5,\n  \"fields\": [\n    {\n      \"column\": \"Name\",\n      \"properties\": {\n        \"dtype\": \"string\",\n        \"num_unique_values\": 5,\n        \"samples\": [\n          \"Sam Altman\",\n          \"A\\u00a0Karpathy\",\n          \"Bill Gates\"\n        ],\n        \"semantic_type\": \"\",\n        \"description\": \"\"\n      }\n    },\n    {\n      \"column\": \"Role\",\n      \"properties\": {\n        \"dtype\": \"string\",\n        \"num_unique_values\": 3,\n        \"samples\": [\n          \"CEO\",\n          \"Founder\",\n          \"Head\\u00a0AI\"\n        ],\n        \"semantic_type\": \"\",\n        \"description\": \"\"\n      }\n    },\n    {\n      \"column\": \"Company\",\n      \"properties\": {\n        \"dtype\": \"string\",\n        \"num_unique_values\": 5,\n        \"samples\": [\n          \"OpenAI\",\n          \"Tesla\",\n          \"Microsoft\"\n        ],\n        \"semantic_type\": \"\",\n        \"description\": \"\"\n      }\n    },\n    {\n      \"column\": \"Born\",\n      \"properties\": {\n        \"dtype\": \"date\",\n        \"min\": \"1955-10-28 00:00:00\",\n        \"max\": \"1986-10-23 00:00:00\",\n        \"num_unique_values\": 5,\n        \"samples\": [\n          \"1985-04-22 00:00:00\",\n          \"1986-10-23 00:00:00\",\n          \"1955-10-28 00:00:00\"\n        ],\n        \"semantic_type\": \"\",\n        \"description\": \"\"\n      }\n    }\n  ]\n}"
            }
          },
          "metadata": {},
          "execution_count": 6
        }
      ]
    },
    {
      "cell_type": "code",
      "source": [
        "df['Last name'] = df['Name'].str.split().str[-1]\n",
        "df"
      ],
      "metadata": {
        "colab": {
          "base_uri": "https://localhost:8080/",
          "height": 206
        },
        "id": "XkFQd5I3_Nfd",
        "outputId": "84461ee3-768a-459e-9a5f-417d52c0cd6f"
      },
      "execution_count": null,
      "outputs": [
        {
          "output_type": "execute_result",
          "data": {
            "text/plain": [
              "            Name     Role    Company       Born Last name\n",
              "0      Elon Musk      CEO     SpaceX 1971-06-28      Musk\n",
              "1     Sam Altman      CEO     OpenAI 1985-04-22    Altman\n",
              "2     Bill Gates  Founder  Microsoft 1955-10-28     Gates\n",
              "3  Sundar Pichai      CEO     Google 1972-06-10    Pichai\n",
              "4     A Karpathy  Head AI      Tesla 1986-10-23  Karpathy"
            ],
            "text/html": [
              "\n",
              "  <div id=\"df-411192a2-1881-406b-9ec8-dd0c5a0eba9d\" class=\"colab-df-container\">\n",
              "    <div>\n",
              "<style scoped>\n",
              "    .dataframe tbody tr th:only-of-type {\n",
              "        vertical-align: middle;\n",
              "    }\n",
              "\n",
              "    .dataframe tbody tr th {\n",
              "        vertical-align: top;\n",
              "    }\n",
              "\n",
              "    .dataframe thead th {\n",
              "        text-align: right;\n",
              "    }\n",
              "</style>\n",
              "<table border=\"1\" class=\"dataframe\">\n",
              "  <thead>\n",
              "    <tr style=\"text-align: right;\">\n",
              "      <th></th>\n",
              "      <th>Name</th>\n",
              "      <th>Role</th>\n",
              "      <th>Company</th>\n",
              "      <th>Born</th>\n",
              "      <th>Last name</th>\n",
              "    </tr>\n",
              "  </thead>\n",
              "  <tbody>\n",
              "    <tr>\n",
              "      <th>0</th>\n",
              "      <td>Elon Musk</td>\n",
              "      <td>CEO</td>\n",
              "      <td>SpaceX</td>\n",
              "      <td>1971-06-28</td>\n",
              "      <td>Musk</td>\n",
              "    </tr>\n",
              "    <tr>\n",
              "      <th>1</th>\n",
              "      <td>Sam Altman</td>\n",
              "      <td>CEO</td>\n",
              "      <td>OpenAI</td>\n",
              "      <td>1985-04-22</td>\n",
              "      <td>Altman</td>\n",
              "    </tr>\n",
              "    <tr>\n",
              "      <th>2</th>\n",
              "      <td>Bill Gates</td>\n",
              "      <td>Founder</td>\n",
              "      <td>Microsoft</td>\n",
              "      <td>1955-10-28</td>\n",
              "      <td>Gates</td>\n",
              "    </tr>\n",
              "    <tr>\n",
              "      <th>3</th>\n",
              "      <td>Sundar Pichai</td>\n",
              "      <td>CEO</td>\n",
              "      <td>Google</td>\n",
              "      <td>1972-06-10</td>\n",
              "      <td>Pichai</td>\n",
              "    </tr>\n",
              "    <tr>\n",
              "      <th>4</th>\n",
              "      <td>A Karpathy</td>\n",
              "      <td>Head AI</td>\n",
              "      <td>Tesla</td>\n",
              "      <td>1986-10-23</td>\n",
              "      <td>Karpathy</td>\n",
              "    </tr>\n",
              "  </tbody>\n",
              "</table>\n",
              "</div>\n",
              "    <div class=\"colab-df-buttons\">\n",
              "\n",
              "  <div class=\"colab-df-container\">\n",
              "    <button class=\"colab-df-convert\" onclick=\"convertToInteractive('df-411192a2-1881-406b-9ec8-dd0c5a0eba9d')\"\n",
              "            title=\"Convert this dataframe to an interactive table.\"\n",
              "            style=\"display:none;\">\n",
              "\n",
              "  <svg xmlns=\"http://www.w3.org/2000/svg\" height=\"24px\" viewBox=\"0 -960 960 960\">\n",
              "    <path d=\"M120-120v-720h720v720H120Zm60-500h600v-160H180v160Zm220 220h160v-160H400v160Zm0 220h160v-160H400v160ZM180-400h160v-160H180v160Zm440 0h160v-160H620v160ZM180-180h160v-160H180v160Zm440 0h160v-160H620v160Z\"/>\n",
              "  </svg>\n",
              "    </button>\n",
              "\n",
              "  <style>\n",
              "    .colab-df-container {\n",
              "      display:flex;\n",
              "      gap: 12px;\n",
              "    }\n",
              "\n",
              "    .colab-df-convert {\n",
              "      background-color: #E8F0FE;\n",
              "      border: none;\n",
              "      border-radius: 50%;\n",
              "      cursor: pointer;\n",
              "      display: none;\n",
              "      fill: #1967D2;\n",
              "      height: 32px;\n",
              "      padding: 0 0 0 0;\n",
              "      width: 32px;\n",
              "    }\n",
              "\n",
              "    .colab-df-convert:hover {\n",
              "      background-color: #E2EBFA;\n",
              "      box-shadow: 0px 1px 2px rgba(60, 64, 67, 0.3), 0px 1px 3px 1px rgba(60, 64, 67, 0.15);\n",
              "      fill: #174EA6;\n",
              "    }\n",
              "\n",
              "    .colab-df-buttons div {\n",
              "      margin-bottom: 4px;\n",
              "    }\n",
              "\n",
              "    [theme=dark] .colab-df-convert {\n",
              "      background-color: #3B4455;\n",
              "      fill: #D2E3FC;\n",
              "    }\n",
              "\n",
              "    [theme=dark] .colab-df-convert:hover {\n",
              "      background-color: #434B5C;\n",
              "      box-shadow: 0px 1px 3px 1px rgba(0, 0, 0, 0.15);\n",
              "      filter: drop-shadow(0px 1px 2px rgba(0, 0, 0, 0.3));\n",
              "      fill: #FFFFFF;\n",
              "    }\n",
              "  </style>\n",
              "\n",
              "    <script>\n",
              "      const buttonEl =\n",
              "        document.querySelector('#df-411192a2-1881-406b-9ec8-dd0c5a0eba9d button.colab-df-convert');\n",
              "      buttonEl.style.display =\n",
              "        google.colab.kernel.accessAllowed ? 'block' : 'none';\n",
              "\n",
              "      async function convertToInteractive(key) {\n",
              "        const element = document.querySelector('#df-411192a2-1881-406b-9ec8-dd0c5a0eba9d');\n",
              "        const dataTable =\n",
              "          await google.colab.kernel.invokeFunction('convertToInteractive',\n",
              "                                                    [key], {});\n",
              "        if (!dataTable) return;\n",
              "\n",
              "        const docLinkHtml = 'Like what you see? Visit the ' +\n",
              "          '<a target=\"_blank\" href=https://colab.research.google.com/notebooks/data_table.ipynb>data table notebook</a>'\n",
              "          + ' to learn more about interactive tables.';\n",
              "        element.innerHTML = '';\n",
              "        dataTable['output_type'] = 'display_data';\n",
              "        await google.colab.output.renderOutput(dataTable, element);\n",
              "        const docLink = document.createElement('div');\n",
              "        docLink.innerHTML = docLinkHtml;\n",
              "        element.appendChild(docLink);\n",
              "      }\n",
              "    </script>\n",
              "  </div>\n",
              "\n",
              "\n",
              "    <div id=\"df-67344086-d3ce-4d74-a61f-cff89eaace0e\">\n",
              "      <button class=\"colab-df-quickchart\" onclick=\"quickchart('df-67344086-d3ce-4d74-a61f-cff89eaace0e')\"\n",
              "                title=\"Suggest charts\"\n",
              "                style=\"display:none;\">\n",
              "\n",
              "<svg xmlns=\"http://www.w3.org/2000/svg\" height=\"24px\"viewBox=\"0 0 24 24\"\n",
              "     width=\"24px\">\n",
              "    <g>\n",
              "        <path d=\"M19 3H5c-1.1 0-2 .9-2 2v14c0 1.1.9 2 2 2h14c1.1 0 2-.9 2-2V5c0-1.1-.9-2-2-2zM9 17H7v-7h2v7zm4 0h-2V7h2v10zm4 0h-2v-4h2v4z\"/>\n",
              "    </g>\n",
              "</svg>\n",
              "      </button>\n",
              "\n",
              "<style>\n",
              "  .colab-df-quickchart {\n",
              "      --bg-color: #E8F0FE;\n",
              "      --fill-color: #1967D2;\n",
              "      --hover-bg-color: #E2EBFA;\n",
              "      --hover-fill-color: #174EA6;\n",
              "      --disabled-fill-color: #AAA;\n",
              "      --disabled-bg-color: #DDD;\n",
              "  }\n",
              "\n",
              "  [theme=dark] .colab-df-quickchart {\n",
              "      --bg-color: #3B4455;\n",
              "      --fill-color: #D2E3FC;\n",
              "      --hover-bg-color: #434B5C;\n",
              "      --hover-fill-color: #FFFFFF;\n",
              "      --disabled-bg-color: #3B4455;\n",
              "      --disabled-fill-color: #666;\n",
              "  }\n",
              "\n",
              "  .colab-df-quickchart {\n",
              "    background-color: var(--bg-color);\n",
              "    border: none;\n",
              "    border-radius: 50%;\n",
              "    cursor: pointer;\n",
              "    display: none;\n",
              "    fill: var(--fill-color);\n",
              "    height: 32px;\n",
              "    padding: 0;\n",
              "    width: 32px;\n",
              "  }\n",
              "\n",
              "  .colab-df-quickchart:hover {\n",
              "    background-color: var(--hover-bg-color);\n",
              "    box-shadow: 0 1px 2px rgba(60, 64, 67, 0.3), 0 1px 3px 1px rgba(60, 64, 67, 0.15);\n",
              "    fill: var(--button-hover-fill-color);\n",
              "  }\n",
              "\n",
              "  .colab-df-quickchart-complete:disabled,\n",
              "  .colab-df-quickchart-complete:disabled:hover {\n",
              "    background-color: var(--disabled-bg-color);\n",
              "    fill: var(--disabled-fill-color);\n",
              "    box-shadow: none;\n",
              "  }\n",
              "\n",
              "  .colab-df-spinner {\n",
              "    border: 2px solid var(--fill-color);\n",
              "    border-color: transparent;\n",
              "    border-bottom-color: var(--fill-color);\n",
              "    animation:\n",
              "      spin 1s steps(1) infinite;\n",
              "  }\n",
              "\n",
              "  @keyframes spin {\n",
              "    0% {\n",
              "      border-color: transparent;\n",
              "      border-bottom-color: var(--fill-color);\n",
              "      border-left-color: var(--fill-color);\n",
              "    }\n",
              "    20% {\n",
              "      border-color: transparent;\n",
              "      border-left-color: var(--fill-color);\n",
              "      border-top-color: var(--fill-color);\n",
              "    }\n",
              "    30% {\n",
              "      border-color: transparent;\n",
              "      border-left-color: var(--fill-color);\n",
              "      border-top-color: var(--fill-color);\n",
              "      border-right-color: var(--fill-color);\n",
              "    }\n",
              "    40% {\n",
              "      border-color: transparent;\n",
              "      border-right-color: var(--fill-color);\n",
              "      border-top-color: var(--fill-color);\n",
              "    }\n",
              "    60% {\n",
              "      border-color: transparent;\n",
              "      border-right-color: var(--fill-color);\n",
              "    }\n",
              "    80% {\n",
              "      border-color: transparent;\n",
              "      border-right-color: var(--fill-color);\n",
              "      border-bottom-color: var(--fill-color);\n",
              "    }\n",
              "    90% {\n",
              "      border-color: transparent;\n",
              "      border-bottom-color: var(--fill-color);\n",
              "    }\n",
              "  }\n",
              "</style>\n",
              "\n",
              "      <script>\n",
              "        async function quickchart(key) {\n",
              "          const quickchartButtonEl =\n",
              "            document.querySelector('#' + key + ' button');\n",
              "          quickchartButtonEl.disabled = true;  // To prevent multiple clicks.\n",
              "          quickchartButtonEl.classList.add('colab-df-spinner');\n",
              "          try {\n",
              "            const charts = await google.colab.kernel.invokeFunction(\n",
              "                'suggestCharts', [key], {});\n",
              "          } catch (error) {\n",
              "            console.error('Error during call to suggestCharts:', error);\n",
              "          }\n",
              "          quickchartButtonEl.classList.remove('colab-df-spinner');\n",
              "          quickchartButtonEl.classList.add('colab-df-quickchart-complete');\n",
              "        }\n",
              "        (() => {\n",
              "          let quickchartButtonEl =\n",
              "            document.querySelector('#df-67344086-d3ce-4d74-a61f-cff89eaace0e button');\n",
              "          quickchartButtonEl.style.display =\n",
              "            google.colab.kernel.accessAllowed ? 'block' : 'none';\n",
              "        })();\n",
              "      </script>\n",
              "    </div>\n",
              "\n",
              "  <div id=\"id_42ad6e64-d7d0-4328-a78f-5c13c3a208e1\">\n",
              "    <style>\n",
              "      .colab-df-generate {\n",
              "        background-color: #E8F0FE;\n",
              "        border: none;\n",
              "        border-radius: 50%;\n",
              "        cursor: pointer;\n",
              "        display: none;\n",
              "        fill: #1967D2;\n",
              "        height: 32px;\n",
              "        padding: 0 0 0 0;\n",
              "        width: 32px;\n",
              "      }\n",
              "\n",
              "      .colab-df-generate:hover {\n",
              "        background-color: #E2EBFA;\n",
              "        box-shadow: 0px 1px 2px rgba(60, 64, 67, 0.3), 0px 1px 3px 1px rgba(60, 64, 67, 0.15);\n",
              "        fill: #174EA6;\n",
              "      }\n",
              "\n",
              "      [theme=dark] .colab-df-generate {\n",
              "        background-color: #3B4455;\n",
              "        fill: #D2E3FC;\n",
              "      }\n",
              "\n",
              "      [theme=dark] .colab-df-generate:hover {\n",
              "        background-color: #434B5C;\n",
              "        box-shadow: 0px 1px 3px 1px rgba(0, 0, 0, 0.15);\n",
              "        filter: drop-shadow(0px 1px 2px rgba(0, 0, 0, 0.3));\n",
              "        fill: #FFFFFF;\n",
              "      }\n",
              "    </style>\n",
              "    <button class=\"colab-df-generate\" onclick=\"generateWithVariable('df')\"\n",
              "            title=\"Generate code using this dataframe.\"\n",
              "            style=\"display:none;\">\n",
              "\n",
              "  <svg xmlns=\"http://www.w3.org/2000/svg\" height=\"24px\"viewBox=\"0 0 24 24\"\n",
              "       width=\"24px\">\n",
              "    <path d=\"M7,19H8.4L18.45,9,17,7.55,7,17.6ZM5,21V16.75L18.45,3.32a2,2,0,0,1,2.83,0l1.4,1.43a1.91,1.91,0,0,1,.58,1.4,1.91,1.91,0,0,1-.58,1.4L9.25,21ZM18.45,9,17,7.55Zm-12,3A5.31,5.31,0,0,0,4.9,8.1,5.31,5.31,0,0,0,1,6.5,5.31,5.31,0,0,0,4.9,4.9,5.31,5.31,0,0,0,6.5,1,5.31,5.31,0,0,0,8.1,4.9,5.31,5.31,0,0,0,12,6.5,5.46,5.46,0,0,0,6.5,12Z\"/>\n",
              "  </svg>\n",
              "    </button>\n",
              "    <script>\n",
              "      (() => {\n",
              "      const buttonEl =\n",
              "        document.querySelector('#id_42ad6e64-d7d0-4328-a78f-5c13c3a208e1 button.colab-df-generate');\n",
              "      buttonEl.style.display =\n",
              "        google.colab.kernel.accessAllowed ? 'block' : 'none';\n",
              "\n",
              "      buttonEl.onclick = () => {\n",
              "        google.colab.notebook.generateWithVariable('df');\n",
              "      }\n",
              "      })();\n",
              "    </script>\n",
              "  </div>\n",
              "\n",
              "    </div>\n",
              "  </div>\n"
            ],
            "application/vnd.google.colaboratory.intrinsic+json": {
              "type": "dataframe",
              "variable_name": "df",
              "summary": "{\n  \"name\": \"df\",\n  \"rows\": 5,\n  \"fields\": [\n    {\n      \"column\": \"Name\",\n      \"properties\": {\n        \"dtype\": \"string\",\n        \"num_unique_values\": 5,\n        \"samples\": [\n          \"Sam Altman\",\n          \"A\\u00a0Karpathy\",\n          \"Bill Gates\"\n        ],\n        \"semantic_type\": \"\",\n        \"description\": \"\"\n      }\n    },\n    {\n      \"column\": \"Role\",\n      \"properties\": {\n        \"dtype\": \"string\",\n        \"num_unique_values\": 3,\n        \"samples\": [\n          \"CEO\",\n          \"Founder\",\n          \"Head\\u00a0AI\"\n        ],\n        \"semantic_type\": \"\",\n        \"description\": \"\"\n      }\n    },\n    {\n      \"column\": \"Company\",\n      \"properties\": {\n        \"dtype\": \"string\",\n        \"num_unique_values\": 5,\n        \"samples\": [\n          \"OpenAI\",\n          \"Tesla\",\n          \"Microsoft\"\n        ],\n        \"semantic_type\": \"\",\n        \"description\": \"\"\n      }\n    },\n    {\n      \"column\": \"Born\",\n      \"properties\": {\n        \"dtype\": \"date\",\n        \"min\": \"1955-10-28 00:00:00\",\n        \"max\": \"1986-10-23 00:00:00\",\n        \"num_unique_values\": 5,\n        \"samples\": [\n          \"1985-04-22 00:00:00\",\n          \"1986-10-23 00:00:00\",\n          \"1955-10-28 00:00:00\"\n        ],\n        \"semantic_type\": \"\",\n        \"description\": \"\"\n      }\n    },\n    {\n      \"column\": \"Last name\",\n      \"properties\": {\n        \"dtype\": \"string\",\n        \"num_unique_values\": 5,\n        \"samples\": [\n          \"Altman\",\n          \"Karpathy\",\n          \"Gates\"\n        ],\n        \"semantic_type\": \"\",\n        \"description\": \"\"\n      }\n    }\n  ]\n}"
            }
          },
          "metadata": {},
          "execution_count": 7
        }
      ]
    },
    {
      "cell_type": "code",
      "source": [
        "def age(born):\n",
        "  today = pd.to_datetime('today')\n",
        "  return today.year - born.year\n",
        "\n",
        "df['Age'] = df['Born'].apply(age)\n",
        "df"
      ],
      "metadata": {
        "colab": {
          "base_uri": "https://localhost:8080/",
          "height": 206
        },
        "id": "-noOAgn0_1Q3",
        "outputId": "dcb5a1ec-0a64-49fa-f0ad-838380550712"
      },
      "execution_count": null,
      "outputs": [
        {
          "output_type": "execute_result",
          "data": {
            "text/plain": [
              "            Name     Role    Company       Born Last name  Age\n",
              "0      Elon Musk      CEO     SpaceX 1971-06-28      Musk   54\n",
              "1     Sam Altman      CEO     OpenAI 1985-04-22    Altman   40\n",
              "2     Bill Gates  Founder  Microsoft 1955-10-28     Gates   70\n",
              "3  Sundar Pichai      CEO     Google 1972-06-10    Pichai   53\n",
              "4     A Karpathy  Head AI      Tesla 1986-10-23  Karpathy   39"
            ],
            "text/html": [
              "\n",
              "  <div id=\"df-ef505a17-465b-4a42-9f10-4241915132de\" class=\"colab-df-container\">\n",
              "    <div>\n",
              "<style scoped>\n",
              "    .dataframe tbody tr th:only-of-type {\n",
              "        vertical-align: middle;\n",
              "    }\n",
              "\n",
              "    .dataframe tbody tr th {\n",
              "        vertical-align: top;\n",
              "    }\n",
              "\n",
              "    .dataframe thead th {\n",
              "        text-align: right;\n",
              "    }\n",
              "</style>\n",
              "<table border=\"1\" class=\"dataframe\">\n",
              "  <thead>\n",
              "    <tr style=\"text-align: right;\">\n",
              "      <th></th>\n",
              "      <th>Name</th>\n",
              "      <th>Role</th>\n",
              "      <th>Company</th>\n",
              "      <th>Born</th>\n",
              "      <th>Last name</th>\n",
              "      <th>Age</th>\n",
              "    </tr>\n",
              "  </thead>\n",
              "  <tbody>\n",
              "    <tr>\n",
              "      <th>0</th>\n",
              "      <td>Elon Musk</td>\n",
              "      <td>CEO</td>\n",
              "      <td>SpaceX</td>\n",
              "      <td>1971-06-28</td>\n",
              "      <td>Musk</td>\n",
              "      <td>54</td>\n",
              "    </tr>\n",
              "    <tr>\n",
              "      <th>1</th>\n",
              "      <td>Sam Altman</td>\n",
              "      <td>CEO</td>\n",
              "      <td>OpenAI</td>\n",
              "      <td>1985-04-22</td>\n",
              "      <td>Altman</td>\n",
              "      <td>40</td>\n",
              "    </tr>\n",
              "    <tr>\n",
              "      <th>2</th>\n",
              "      <td>Bill Gates</td>\n",
              "      <td>Founder</td>\n",
              "      <td>Microsoft</td>\n",
              "      <td>1955-10-28</td>\n",
              "      <td>Gates</td>\n",
              "      <td>70</td>\n",
              "    </tr>\n",
              "    <tr>\n",
              "      <th>3</th>\n",
              "      <td>Sundar Pichai</td>\n",
              "      <td>CEO</td>\n",
              "      <td>Google</td>\n",
              "      <td>1972-06-10</td>\n",
              "      <td>Pichai</td>\n",
              "      <td>53</td>\n",
              "    </tr>\n",
              "    <tr>\n",
              "      <th>4</th>\n",
              "      <td>A Karpathy</td>\n",
              "      <td>Head AI</td>\n",
              "      <td>Tesla</td>\n",
              "      <td>1986-10-23</td>\n",
              "      <td>Karpathy</td>\n",
              "      <td>39</td>\n",
              "    </tr>\n",
              "  </tbody>\n",
              "</table>\n",
              "</div>\n",
              "    <div class=\"colab-df-buttons\">\n",
              "\n",
              "  <div class=\"colab-df-container\">\n",
              "    <button class=\"colab-df-convert\" onclick=\"convertToInteractive('df-ef505a17-465b-4a42-9f10-4241915132de')\"\n",
              "            title=\"Convert this dataframe to an interactive table.\"\n",
              "            style=\"display:none;\">\n",
              "\n",
              "  <svg xmlns=\"http://www.w3.org/2000/svg\" height=\"24px\" viewBox=\"0 -960 960 960\">\n",
              "    <path d=\"M120-120v-720h720v720H120Zm60-500h600v-160H180v160Zm220 220h160v-160H400v160Zm0 220h160v-160H400v160ZM180-400h160v-160H180v160Zm440 0h160v-160H620v160ZM180-180h160v-160H180v160Zm440 0h160v-160H620v160Z\"/>\n",
              "  </svg>\n",
              "    </button>\n",
              "\n",
              "  <style>\n",
              "    .colab-df-container {\n",
              "      display:flex;\n",
              "      gap: 12px;\n",
              "    }\n",
              "\n",
              "    .colab-df-convert {\n",
              "      background-color: #E8F0FE;\n",
              "      border: none;\n",
              "      border-radius: 50%;\n",
              "      cursor: pointer;\n",
              "      display: none;\n",
              "      fill: #1967D2;\n",
              "      height: 32px;\n",
              "      padding: 0 0 0 0;\n",
              "      width: 32px;\n",
              "    }\n",
              "\n",
              "    .colab-df-convert:hover {\n",
              "      background-color: #E2EBFA;\n",
              "      box-shadow: 0px 1px 2px rgba(60, 64, 67, 0.3), 0px 1px 3px 1px rgba(60, 64, 67, 0.15);\n",
              "      fill: #174EA6;\n",
              "    }\n",
              "\n",
              "    .colab-df-buttons div {\n",
              "      margin-bottom: 4px;\n",
              "    }\n",
              "\n",
              "    [theme=dark] .colab-df-convert {\n",
              "      background-color: #3B4455;\n",
              "      fill: #D2E3FC;\n",
              "    }\n",
              "\n",
              "    [theme=dark] .colab-df-convert:hover {\n",
              "      background-color: #434B5C;\n",
              "      box-shadow: 0px 1px 3px 1px rgba(0, 0, 0, 0.15);\n",
              "      filter: drop-shadow(0px 1px 2px rgba(0, 0, 0, 0.3));\n",
              "      fill: #FFFFFF;\n",
              "    }\n",
              "  </style>\n",
              "\n",
              "    <script>\n",
              "      const buttonEl =\n",
              "        document.querySelector('#df-ef505a17-465b-4a42-9f10-4241915132de button.colab-df-convert');\n",
              "      buttonEl.style.display =\n",
              "        google.colab.kernel.accessAllowed ? 'block' : 'none';\n",
              "\n",
              "      async function convertToInteractive(key) {\n",
              "        const element = document.querySelector('#df-ef505a17-465b-4a42-9f10-4241915132de');\n",
              "        const dataTable =\n",
              "          await google.colab.kernel.invokeFunction('convertToInteractive',\n",
              "                                                    [key], {});\n",
              "        if (!dataTable) return;\n",
              "\n",
              "        const docLinkHtml = 'Like what you see? Visit the ' +\n",
              "          '<a target=\"_blank\" href=https://colab.research.google.com/notebooks/data_table.ipynb>data table notebook</a>'\n",
              "          + ' to learn more about interactive tables.';\n",
              "        element.innerHTML = '';\n",
              "        dataTable['output_type'] = 'display_data';\n",
              "        await google.colab.output.renderOutput(dataTable, element);\n",
              "        const docLink = document.createElement('div');\n",
              "        docLink.innerHTML = docLinkHtml;\n",
              "        element.appendChild(docLink);\n",
              "      }\n",
              "    </script>\n",
              "  </div>\n",
              "\n",
              "\n",
              "    <div id=\"df-c80d88dc-716c-4057-827b-31f75f36ec9d\">\n",
              "      <button class=\"colab-df-quickchart\" onclick=\"quickchart('df-c80d88dc-716c-4057-827b-31f75f36ec9d')\"\n",
              "                title=\"Suggest charts\"\n",
              "                style=\"display:none;\">\n",
              "\n",
              "<svg xmlns=\"http://www.w3.org/2000/svg\" height=\"24px\"viewBox=\"0 0 24 24\"\n",
              "     width=\"24px\">\n",
              "    <g>\n",
              "        <path d=\"M19 3H5c-1.1 0-2 .9-2 2v14c0 1.1.9 2 2 2h14c1.1 0 2-.9 2-2V5c0-1.1-.9-2-2-2zM9 17H7v-7h2v7zm4 0h-2V7h2v10zm4 0h-2v-4h2v4z\"/>\n",
              "    </g>\n",
              "</svg>\n",
              "      </button>\n",
              "\n",
              "<style>\n",
              "  .colab-df-quickchart {\n",
              "      --bg-color: #E8F0FE;\n",
              "      --fill-color: #1967D2;\n",
              "      --hover-bg-color: #E2EBFA;\n",
              "      --hover-fill-color: #174EA6;\n",
              "      --disabled-fill-color: #AAA;\n",
              "      --disabled-bg-color: #DDD;\n",
              "  }\n",
              "\n",
              "  [theme=dark] .colab-df-quickchart {\n",
              "      --bg-color: #3B4455;\n",
              "      --fill-color: #D2E3FC;\n",
              "      --hover-bg-color: #434B5C;\n",
              "      --hover-fill-color: #FFFFFF;\n",
              "      --disabled-bg-color: #3B4455;\n",
              "      --disabled-fill-color: #666;\n",
              "  }\n",
              "\n",
              "  .colab-df-quickchart {\n",
              "    background-color: var(--bg-color);\n",
              "    border: none;\n",
              "    border-radius: 50%;\n",
              "    cursor: pointer;\n",
              "    display: none;\n",
              "    fill: var(--fill-color);\n",
              "    height: 32px;\n",
              "    padding: 0;\n",
              "    width: 32px;\n",
              "  }\n",
              "\n",
              "  .colab-df-quickchart:hover {\n",
              "    background-color: var(--hover-bg-color);\n",
              "    box-shadow: 0 1px 2px rgba(60, 64, 67, 0.3), 0 1px 3px 1px rgba(60, 64, 67, 0.15);\n",
              "    fill: var(--button-hover-fill-color);\n",
              "  }\n",
              "\n",
              "  .colab-df-quickchart-complete:disabled,\n",
              "  .colab-df-quickchart-complete:disabled:hover {\n",
              "    background-color: var(--disabled-bg-color);\n",
              "    fill: var(--disabled-fill-color);\n",
              "    box-shadow: none;\n",
              "  }\n",
              "\n",
              "  .colab-df-spinner {\n",
              "    border: 2px solid var(--fill-color);\n",
              "    border-color: transparent;\n",
              "    border-bottom-color: var(--fill-color);\n",
              "    animation:\n",
              "      spin 1s steps(1) infinite;\n",
              "  }\n",
              "\n",
              "  @keyframes spin {\n",
              "    0% {\n",
              "      border-color: transparent;\n",
              "      border-bottom-color: var(--fill-color);\n",
              "      border-left-color: var(--fill-color);\n",
              "    }\n",
              "    20% {\n",
              "      border-color: transparent;\n",
              "      border-left-color: var(--fill-color);\n",
              "      border-top-color: var(--fill-color);\n",
              "    }\n",
              "    30% {\n",
              "      border-color: transparent;\n",
              "      border-left-color: var(--fill-color);\n",
              "      border-top-color: var(--fill-color);\n",
              "      border-right-color: var(--fill-color);\n",
              "    }\n",
              "    40% {\n",
              "      border-color: transparent;\n",
              "      border-right-color: var(--fill-color);\n",
              "      border-top-color: var(--fill-color);\n",
              "    }\n",
              "    60% {\n",
              "      border-color: transparent;\n",
              "      border-right-color: var(--fill-color);\n",
              "    }\n",
              "    80% {\n",
              "      border-color: transparent;\n",
              "      border-right-color: var(--fill-color);\n",
              "      border-bottom-color: var(--fill-color);\n",
              "    }\n",
              "    90% {\n",
              "      border-color: transparent;\n",
              "      border-bottom-color: var(--fill-color);\n",
              "    }\n",
              "  }\n",
              "</style>\n",
              "\n",
              "      <script>\n",
              "        async function quickchart(key) {\n",
              "          const quickchartButtonEl =\n",
              "            document.querySelector('#' + key + ' button');\n",
              "          quickchartButtonEl.disabled = true;  // To prevent multiple clicks.\n",
              "          quickchartButtonEl.classList.add('colab-df-spinner');\n",
              "          try {\n",
              "            const charts = await google.colab.kernel.invokeFunction(\n",
              "                'suggestCharts', [key], {});\n",
              "          } catch (error) {\n",
              "            console.error('Error during call to suggestCharts:', error);\n",
              "          }\n",
              "          quickchartButtonEl.classList.remove('colab-df-spinner');\n",
              "          quickchartButtonEl.classList.add('colab-df-quickchart-complete');\n",
              "        }\n",
              "        (() => {\n",
              "          let quickchartButtonEl =\n",
              "            document.querySelector('#df-c80d88dc-716c-4057-827b-31f75f36ec9d button');\n",
              "          quickchartButtonEl.style.display =\n",
              "            google.colab.kernel.accessAllowed ? 'block' : 'none';\n",
              "        })();\n",
              "      </script>\n",
              "    </div>\n",
              "\n",
              "  <div id=\"id_9a87ccac-07ea-4ed8-9332-deafb16e7444\">\n",
              "    <style>\n",
              "      .colab-df-generate {\n",
              "        background-color: #E8F0FE;\n",
              "        border: none;\n",
              "        border-radius: 50%;\n",
              "        cursor: pointer;\n",
              "        display: none;\n",
              "        fill: #1967D2;\n",
              "        height: 32px;\n",
              "        padding: 0 0 0 0;\n",
              "        width: 32px;\n",
              "      }\n",
              "\n",
              "      .colab-df-generate:hover {\n",
              "        background-color: #E2EBFA;\n",
              "        box-shadow: 0px 1px 2px rgba(60, 64, 67, 0.3), 0px 1px 3px 1px rgba(60, 64, 67, 0.15);\n",
              "        fill: #174EA6;\n",
              "      }\n",
              "\n",
              "      [theme=dark] .colab-df-generate {\n",
              "        background-color: #3B4455;\n",
              "        fill: #D2E3FC;\n",
              "      }\n",
              "\n",
              "      [theme=dark] .colab-df-generate:hover {\n",
              "        background-color: #434B5C;\n",
              "        box-shadow: 0px 1px 3px 1px rgba(0, 0, 0, 0.15);\n",
              "        filter: drop-shadow(0px 1px 2px rgba(0, 0, 0, 0.3));\n",
              "        fill: #FFFFFF;\n",
              "      }\n",
              "    </style>\n",
              "    <button class=\"colab-df-generate\" onclick=\"generateWithVariable('df')\"\n",
              "            title=\"Generate code using this dataframe.\"\n",
              "            style=\"display:none;\">\n",
              "\n",
              "  <svg xmlns=\"http://www.w3.org/2000/svg\" height=\"24px\"viewBox=\"0 0 24 24\"\n",
              "       width=\"24px\">\n",
              "    <path d=\"M7,19H8.4L18.45,9,17,7.55,7,17.6ZM5,21V16.75L18.45,3.32a2,2,0,0,1,2.83,0l1.4,1.43a1.91,1.91,0,0,1,.58,1.4,1.91,1.91,0,0,1-.58,1.4L9.25,21ZM18.45,9,17,7.55Zm-12,3A5.31,5.31,0,0,0,4.9,8.1,5.31,5.31,0,0,0,1,6.5,5.31,5.31,0,0,0,4.9,4.9,5.31,5.31,0,0,0,6.5,1,5.31,5.31,0,0,0,8.1,4.9,5.31,5.31,0,0,0,12,6.5,5.46,5.46,0,0,0,6.5,12Z\"/>\n",
              "  </svg>\n",
              "    </button>\n",
              "    <script>\n",
              "      (() => {\n",
              "      const buttonEl =\n",
              "        document.querySelector('#id_9a87ccac-07ea-4ed8-9332-deafb16e7444 button.colab-df-generate');\n",
              "      buttonEl.style.display =\n",
              "        google.colab.kernel.accessAllowed ? 'block' : 'none';\n",
              "\n",
              "      buttonEl.onclick = () => {\n",
              "        google.colab.notebook.generateWithVariable('df');\n",
              "      }\n",
              "      })();\n",
              "    </script>\n",
              "  </div>\n",
              "\n",
              "    </div>\n",
              "  </div>\n"
            ],
            "application/vnd.google.colaboratory.intrinsic+json": {
              "type": "dataframe",
              "variable_name": "df",
              "summary": "{\n  \"name\": \"df\",\n  \"rows\": 5,\n  \"fields\": [\n    {\n      \"column\": \"Name\",\n      \"properties\": {\n        \"dtype\": \"string\",\n        \"num_unique_values\": 5,\n        \"samples\": [\n          \"Sam Altman\",\n          \"A\\u00a0Karpathy\",\n          \"Bill Gates\"\n        ],\n        \"semantic_type\": \"\",\n        \"description\": \"\"\n      }\n    },\n    {\n      \"column\": \"Role\",\n      \"properties\": {\n        \"dtype\": \"string\",\n        \"num_unique_values\": 3,\n        \"samples\": [\n          \"CEO\",\n          \"Founder\",\n          \"Head\\u00a0AI\"\n        ],\n        \"semantic_type\": \"\",\n        \"description\": \"\"\n      }\n    },\n    {\n      \"column\": \"Company\",\n      \"properties\": {\n        \"dtype\": \"string\",\n        \"num_unique_values\": 5,\n        \"samples\": [\n          \"OpenAI\",\n          \"Tesla\",\n          \"Microsoft\"\n        ],\n        \"semantic_type\": \"\",\n        \"description\": \"\"\n      }\n    },\n    {\n      \"column\": \"Born\",\n      \"properties\": {\n        \"dtype\": \"date\",\n        \"min\": \"1955-10-28 00:00:00\",\n        \"max\": \"1986-10-23 00:00:00\",\n        \"num_unique_values\": 5,\n        \"samples\": [\n          \"1985-04-22 00:00:00\",\n          \"1986-10-23 00:00:00\",\n          \"1955-10-28 00:00:00\"\n        ],\n        \"semantic_type\": \"\",\n        \"description\": \"\"\n      }\n    },\n    {\n      \"column\": \"Last name\",\n      \"properties\": {\n        \"dtype\": \"string\",\n        \"num_unique_values\": 5,\n        \"samples\": [\n          \"Altman\",\n          \"Karpathy\",\n          \"Gates\"\n        ],\n        \"semantic_type\": \"\",\n        \"description\": \"\"\n      }\n    },\n    {\n      \"column\": \"Age\",\n      \"properties\": {\n        \"dtype\": \"number\",\n        \"std\": 12,\n        \"min\": 39,\n        \"max\": 70,\n        \"num_unique_values\": 5,\n        \"samples\": [\n          40,\n          39,\n          70\n        ],\n        \"semantic_type\": \"\",\n        \"description\": \"\"\n      }\n    }\n  ]\n}"
            }
          },
          "metadata": {},
          "execution_count": 8
        }
      ]
    },
    {
      "cell_type": "code",
      "source": [
        "df.to_excel('ForbesList.xlsx', index=False)"
      ],
      "metadata": {
        "id": "0Y2OscTTAnou"
      },
      "execution_count": null,
      "outputs": []
    },
    {
      "cell_type": "markdown",
      "source": [
        "## 1e Regression"
      ],
      "metadata": {
        "id": "xn9BH0yMLeUy"
      }
    },
    {
      "cell_type": "code",
      "metadata": {
        "id": "vvKPGISZ8jOO",
        "colab": {
          "base_uri": "https://localhost:8080/",
          "height": 281
        },
        "outputId": "5d6af550-2dfa-43d5-ad3f-1200baf42847"
      },
      "source": [
        "from scipy.optimize import curve_fit\n",
        "\n",
        "# Regression, curve fitting\n",
        "x = np.linspace(0, 50, 100)\n",
        "\n",
        "def sqrf(x, a, b):\n",
        "  return (a * x**2) + (b * x)\n",
        "\n",
        "# Make a synthetic function\n",
        "y = sinef(x, a=2, b=0.5)\n",
        "\n",
        "# Make a random noise\n",
        "n = np.random.random(100)\n",
        "\n",
        "# Add noise to y\n",
        "y = y + n\n",
        "\n",
        "# Fit this data with our sine function to find a, b\n",
        "popt, pcov = curve_fit(sqrf, x, y)\n",
        "a, b = popt\n",
        "\n",
        "yfit = sqrf(x, a, b)\n",
        "\n",
        "plt.scatter(x, y)\n",
        "plt.plot(x, yfit, color='red')\n",
        "plt.title('Fit function')\n",
        "\n",
        "plt.show()"
      ],
      "execution_count": null,
      "outputs": [
        {
          "output_type": "display_data",
          "data": {
            "image/png": "[encoded data removed]",
            "text/plain": [
              "<Figure size 432x288 with 1 Axes>"
            ]
          },
          "metadata": {
            "needs_background": "light"
          }
        }
      ]
    },
    {
      "cell_type": "code",
      "metadata": {
        "colab": {
          "base_uri": "https://localhost:8080/"
        },
        "id": "jJ-Sd0xdDBFe",
        "outputId": "37823e6d-0b3f-478e-8028-c1b042acfbb1"
      },
      "source": [
        "popt"
      ],
      "execution_count": null,
      "outputs": [
        {
          "output_type": "execute_result",
          "data": {
            "text/plain": [
              "array([0.39212209, 1.11142176])"
            ]
          },
          "metadata": {},
          "execution_count": 196
        }
      ]
    },
    {
      "cell_type": "code",
      "metadata": {
        "colab": {
          "base_uri": "https://localhost:8080/",
          "height": 487
        },
        "id": "tW8IFiXZQ5hQ",
        "outputId": "dee868ff-dc1e-4c5d-8651-368ad919aeb7"
      },
      "source": [
        "from scipy.optimize import curve_fit\n",
        "\n",
        "# Load the data\n",
        "grav = np.loadtxt('/content/Gravity_Data.txt')\n",
        "x = grav[:,0]\n",
        "y = grav[:,1]\n",
        "\n",
        "# Define function\n",
        "def bouguer(x, a, b, c):\n",
        "  return 50 * (np.sin(a * x)**4 - (np.cos(b * x))**3 + (c / x))\n",
        "\n",
        "def exponential(x, p, q):\n",
        "  return p * x**(-q)\n",
        "\n",
        "# Fit the data\n",
        "popt, pcov = curve_fit(bouguer, x, y)\n",
        "a, b, c = popt\n",
        "\n",
        "popt, pcov = curve_fit(exponential, x, y)\n",
        "p, q = popt\n",
        "\n",
        "# Plot the fitted line\n",
        "xfit = np.linspace(0, 2, 100)\n",
        "yfit1 = bouguer(xfit, a, b, c)\n",
        "yfit2 = exponential(xfit, p, q)\n",
        "\n",
        "# Plot the data\n",
        "plt.figure(figsize=(6,4))\n",
        "plt.scatter(x, y, label='Data')\n",
        "\n",
        "plt.plot(xfit, yfit1, color='black', label='Sin Fitted') # Sin\n",
        "plt.plot(xfit, yfit2, color='r', label='Exponential Fitted') # Exponential\n",
        "\n",
        "plt.xlabel('x [km]', size=15); plt.ylabel('y [mGal]', size=15)\n",
        "plt.title('Gravity Anomaly around Salt Body', size=15)\n",
        "plt.legend()\n",
        "plt.show()"
      ],
      "execution_count": null,
      "outputs": [
        {
          "output_type": "stream",
          "name": "stderr",
          "text": [
            "<ipython-input-5-1073d794c4a9>:10: RuntimeWarning: divide by zero encountered in true_divide\n",
            "  return 50 * (np.sin(a * x)**4 - (np.cos(b * x))**3 + (c / x))\n",
            "<ipython-input-5-1073d794c4a9>:13: RuntimeWarning: divide by zero encountered in power\n",
            "  return p * x**(-q)\n"
          ]
        },
        {
          "output_type": "display_data",
          "data": {
            "text/plain": [
              "<Figure size 600x400 with 1 Axes>"
            ],
            "image/png": "[encoded data removed]"
          },
          "metadata": {}
        }
      ]
    },
    {
      "cell_type": "code",
      "metadata": {
        "colab": {
          "base_uri": "https://localhost:8080/",
          "height": 300
        },
        "id": "ivQJ74rvpr9o",
        "outputId": "5d14ed92-3234-4b47-e9f4-8e77ecaa1a88"
      },
      "source": [
        "from sklearn.metrics import r2_score\n",
        "\n",
        "yfit1 = bouguer(x, a, b, c)\n",
        "yfit2 = exponential(x, p, q)\n",
        "\n",
        "# Measure the R2\n",
        "r2_1 = r2_score(y, yfit1)\n",
        "r2_2 = r2_score(y, yfit2)\n",
        "print(r2_1, r2_2)\n",
        "\n",
        "plt.plot(x, yfit1, label=f'R2: {r2_1}')\n",
        "plt.plot(x, yfit2, label=f'R2: {r2_2}')\n",
        "plt.legend()"
      ],
      "execution_count": null,
      "outputs": [
        {
          "output_type": "stream",
          "name": "stdout",
          "text": [
            "0.8832081108780281 0.8102648507329232\n"
          ]
        },
        {
          "output_type": "execute_result",
          "data": {
            "text/plain": [
              "<matplotlib.legend.Legend at 0x7f40f80fcc10>"
            ]
          },
          "metadata": {},
          "execution_count": 385
        },
        {
          "output_type": "display_data",
          "data": {
            "image/png": "[encoded data removed]",
            "text/plain": [
              "<Figure size 432x288 with 1 Axes>"
            ]
          },
          "metadata": {
            "needs_background": "light"
          }
        }
      ]
    },
    {
      "cell_type": "markdown",
      "source": [
        "## 1f Gridding and interpolation"
      ],
      "metadata": {
        "id": "lMBmgCmIMHAf"
      }
    },
    {
      "cell_type": "code",
      "metadata": {
        "colab": {
          "base_uri": "https://localhost:8080/",
          "height": 295
        },
        "id": "G4DtOK322XTL",
        "outputId": "51588a55-9fd0-4e2f-a604-4719647a76d0"
      },
      "source": [
        "# Define the x and y coordinate\n",
        "x = np.linspace(0, 100, 50)\n",
        "y = np.linspace(0, 100, 50)\n",
        "\n",
        "# Make a 2D grid\n",
        "xi, yi = np.meshgrid(x, y)\n",
        "\n",
        "# Make a function\n",
        "def f(x, y):\n",
        "  return np.sqrt(x) + y**2\n",
        "\n",
        "# Apply the function to our grid\n",
        "z = f(xi, yi)\n",
        "\n",
        "# Make 2D plot\n",
        "plt.imshow(z, interpolation='bicubic', cmap='plasma')\n",
        "plt.colorbar()\n",
        "plt.xlabel('X'); plt.ylabel('Y')\n",
        "plt.title('2D Plot')\n",
        "plt.show()"
      ],
      "execution_count": null,
      "outputs": [
        {
          "output_type": "display_data",
          "data": {
            "image/png": "[encoded data removed]",
            "text/plain": [
              "<Figure size 432x288 with 2 Axes>"
            ]
          },
          "metadata": {
            "needs_background": "light"
          }
        }
      ]
    },
    {
      "cell_type": "code",
      "metadata": {
        "colab": {
          "base_uri": "https://localhost:8080/"
        },
        "id": "T9erhJz0bDvY",
        "outputId": "b0be11f9-d441-4b9d-dd7d-08f1eb540881"
      },
      "source": [
        "x = np.array([100,10,99,8,10,12,5,6,8])\n",
        "y = np.array([2,10,9,2,3, 8, 9, 10])\n",
        "\n",
        "id = np.where(x==min(x))[0][0]\n",
        "y[id]"
      ],
      "execution_count": null,
      "outputs": [
        {
          "output_type": "execute_result",
          "data": {
            "text/plain": [
              "9"
            ]
          },
          "metadata": {},
          "execution_count": 330
        }
      ]
    },
    {
      "cell_type": "code",
      "source": [],
      "metadata": {
        "id": "ZtGCoBZ4RmKo"
      },
      "execution_count": null,
      "outputs": []
    },
    {
      "cell_type": "code",
      "metadata": {
        "colab": {
          "base_uri": "https://localhost:8080/",
          "height": 245
        },
        "id": "sKO2sqvpTjEW",
        "outputId": "fd251a7b-088b-4401-8d90-00a57f989a60"
      },
      "source": [
        "from scipy.interpolate import interp1d\n",
        "\n",
        "gps = np.loadtxt('/content/Altitude_Data.txt')\n",
        "\n",
        "# The data\n",
        "x = gps[:,0]\n",
        "y = gps[:,1]\n",
        "\n",
        "# Interpolate the data\n",
        "finterp = interp1d(x, y, kind='cubic')\n",
        "\n",
        "# Altitude at 0.95 km\n",
        "alt = finterp(0.95)\n",
        "print('Altitude at 0.95 km is', np.round(alt, 2))\n",
        "\n",
        "# Plot the interpolation\n",
        "xinterp = np.linspace(0, 2, 100)\n",
        "yinterp = finterp(xinterp)\n",
        "\n",
        "# Determine the point at the lowest altitude\n",
        "alti_min = np.where(y==min(y))[0][0]\n",
        "point = x[alti_min]\n",
        "print('Location at the lowest point is:', point)\n",
        "\n",
        "plt.figure(figsize=(13,3))\n",
        "plt.plot(xinterp, yinterp, c='red', label='Interpolated')\n",
        "plt.scatter(x, y, c='black', label='Data')\n",
        "plt.axvline(point, ls='--', c='blue')\n",
        "plt.legend()\n",
        "plt.show()"
      ],
      "execution_count": null,
      "outputs": [
        {
          "output_type": "stream",
          "name": "stdout",
          "text": [
            "Altitude at 0.95 km is 8.71\n",
            "Location at the lowest point is: 0.408163\n"
          ]
        },
        {
          "output_type": "display_data",
          "data": {
            "image/png": "[encoded data removed]",
            "text/plain": [
              "<Figure size 936x216 with 1 Axes>"
            ]
          },
          "metadata": {
            "needs_background": "light"
          }
        }
      ]
    }
  ]
}